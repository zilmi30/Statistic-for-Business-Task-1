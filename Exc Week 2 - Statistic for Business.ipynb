{
 "cells": [
  {
   "cell_type": "code",
   "execution_count": 1,
   "id": "c2ccb866-edd1-46bb-bcd0-43324cd9e3b1",
   "metadata": {},
   "outputs": [],
   "source": [
    "import pandas as pd         \n",
    "import matplotlib.pyplot as plt  \n",
    "import seaborn as sns\n",
    "import math                 \n",
    "import statistics\n",
    "from scipy import stats\n",
    "from statistics import mode\n",
    "import matplotlib.ticker as ticker\n",
    "import numpy as np"
   ]
  },
  {
   "cell_type": "markdown",
   "id": "11a61222-d4c2-4e28-ad31-4bcb29c545c7",
   "metadata": {
    "jp-MarkdownHeadingCollapsed": true
   },
   "source": [
    "## Case 1"
   ]
  },
  {
   "cell_type": "code",
   "execution_count": 7,
   "id": "7393b5cd-d5cc-4d7e-9b31-ea45b68f3a2a",
   "metadata": {},
   "outputs": [],
   "source": [
    "googleplaystore = pd.read_csv(\"googleplaystore.csv\")"
   ]
  },
  {
   "cell_type": "code",
   "execution_count": 9,
   "id": "34cfaccf-39b8-4d48-a390-e793d76f2eaf",
   "metadata": {},
   "outputs": [],
   "source": [
    "googleplaystore.rename(columns={'Unnamed: 0': 'ID'}, inplace=True)"
   ]
  },
  {
   "cell_type": "code",
   "execution_count": 23,
   "id": "e89f9ff9-8753-4704-8304-f8c8712fa7bb",
   "metadata": {},
   "outputs": [
    {
     "data": {
      "text/html": [
       "<div>\n",
       "<style scoped>\n",
       "    .dataframe tbody tr th:only-of-type {\n",
       "        vertical-align: middle;\n",
       "    }\n",
       "\n",
       "    .dataframe tbody tr th {\n",
       "        vertical-align: top;\n",
       "    }\n",
       "\n",
       "    .dataframe thead th {\n",
       "        text-align: right;\n",
       "    }\n",
       "</style>\n",
       "<table border=\"1\" class=\"dataframe\">\n",
       "  <thead>\n",
       "    <tr style=\"text-align: right;\">\n",
       "      <th></th>\n",
       "      <th>ID</th>\n",
       "      <th>App</th>\n",
       "      <th>Category</th>\n",
       "      <th>Rating</th>\n",
       "      <th>Reviews</th>\n",
       "      <th>Size</th>\n",
       "      <th>Installs_plus</th>\n",
       "      <th>Type</th>\n",
       "      <th>Price</th>\n",
       "      <th>Content Rating</th>\n",
       "      <th>Genres</th>\n",
       "      <th>Last Updated</th>\n",
       "      <th>Current Ver</th>\n",
       "      <th>Android Ver</th>\n",
       "    </tr>\n",
       "  </thead>\n",
       "  <tbody>\n",
       "    <tr>\n",
       "      <th>0</th>\n",
       "      <td>0</td>\n",
       "      <td>Photo Editor &amp; Candy Camera &amp; Grid &amp; ScrapBook</td>\n",
       "      <td>ART_AND_DESIGN</td>\n",
       "      <td>4.1</td>\n",
       "      <td>159</td>\n",
       "      <td>19M</td>\n",
       "      <td>10000</td>\n",
       "      <td>Free</td>\n",
       "      <td>0</td>\n",
       "      <td>Everyone</td>\n",
       "      <td>Art &amp; Design</td>\n",
       "      <td>7-Jan-18</td>\n",
       "      <td>1.0.0</td>\n",
       "      <td>4.0.3 and up</td>\n",
       "    </tr>\n",
       "    <tr>\n",
       "      <th>1</th>\n",
       "      <td>1</td>\n",
       "      <td>Coloring book moana</td>\n",
       "      <td>ART_AND_DESIGN</td>\n",
       "      <td>3.9</td>\n",
       "      <td>967</td>\n",
       "      <td>14M</td>\n",
       "      <td>500000</td>\n",
       "      <td>Free</td>\n",
       "      <td>0</td>\n",
       "      <td>Everyone</td>\n",
       "      <td>Art &amp; Design;Pretend Play</td>\n",
       "      <td>15-Jan-18</td>\n",
       "      <td>2.0.0</td>\n",
       "      <td>4.0.3 and up</td>\n",
       "    </tr>\n",
       "    <tr>\n",
       "      <th>2</th>\n",
       "      <td>2</td>\n",
       "      <td>U Launcher Lite – FREE Live Cool Themes, Hide ...</td>\n",
       "      <td>ART_AND_DESIGN</td>\n",
       "      <td>4.7</td>\n",
       "      <td>87510</td>\n",
       "      <td>8.7M</td>\n",
       "      <td>5000000</td>\n",
       "      <td>Free</td>\n",
       "      <td>0</td>\n",
       "      <td>Everyone</td>\n",
       "      <td>Art &amp; Design</td>\n",
       "      <td>1-Aug-18</td>\n",
       "      <td>1.2.4</td>\n",
       "      <td>4.0.3 and up</td>\n",
       "    </tr>\n",
       "    <tr>\n",
       "      <th>3</th>\n",
       "      <td>3</td>\n",
       "      <td>Sketch - Draw &amp; Paint</td>\n",
       "      <td>ART_AND_DESIGN</td>\n",
       "      <td>4.5</td>\n",
       "      <td>215644</td>\n",
       "      <td>25M</td>\n",
       "      <td>50000000</td>\n",
       "      <td>Free</td>\n",
       "      <td>0</td>\n",
       "      <td>Teen</td>\n",
       "      <td>Art &amp; Design</td>\n",
       "      <td>8-Jun-18</td>\n",
       "      <td>Varies with device</td>\n",
       "      <td>4.2 and up</td>\n",
       "    </tr>\n",
       "    <tr>\n",
       "      <th>4</th>\n",
       "      <td>4</td>\n",
       "      <td>Pixel Draw - Number Art Coloring Book</td>\n",
       "      <td>ART_AND_DESIGN</td>\n",
       "      <td>4.3</td>\n",
       "      <td>967</td>\n",
       "      <td>2.8M</td>\n",
       "      <td>100000</td>\n",
       "      <td>Free</td>\n",
       "      <td>0</td>\n",
       "      <td>Everyone</td>\n",
       "      <td>Art &amp; Design;Creativity</td>\n",
       "      <td>20-Jun-18</td>\n",
       "      <td>1.1</td>\n",
       "      <td>4.4 and up</td>\n",
       "    </tr>\n",
       "    <tr>\n",
       "      <th>...</th>\n",
       "      <td>...</td>\n",
       "      <td>...</td>\n",
       "      <td>...</td>\n",
       "      <td>...</td>\n",
       "      <td>...</td>\n",
       "      <td>...</td>\n",
       "      <td>...</td>\n",
       "      <td>...</td>\n",
       "      <td>...</td>\n",
       "      <td>...</td>\n",
       "      <td>...</td>\n",
       "      <td>...</td>\n",
       "      <td>...</td>\n",
       "      <td>...</td>\n",
       "    </tr>\n",
       "    <tr>\n",
       "      <th>7718</th>\n",
       "      <td>10832</td>\n",
       "      <td>Chemin (fr)</td>\n",
       "      <td>BOOKS_AND_REFERENCE</td>\n",
       "      <td>4.8</td>\n",
       "      <td>44</td>\n",
       "      <td>619k</td>\n",
       "      <td>1000</td>\n",
       "      <td>Free</td>\n",
       "      <td>0</td>\n",
       "      <td>Everyone</td>\n",
       "      <td>Books &amp; Reference</td>\n",
       "      <td>23-Mar-14</td>\n",
       "      <td>0.8</td>\n",
       "      <td>2.2 and up</td>\n",
       "    </tr>\n",
       "    <tr>\n",
       "      <th>7719</th>\n",
       "      <td>10833</td>\n",
       "      <td>FR Calculator</td>\n",
       "      <td>FAMILY</td>\n",
       "      <td>4.0</td>\n",
       "      <td>7</td>\n",
       "      <td>2.6M</td>\n",
       "      <td>500</td>\n",
       "      <td>Free</td>\n",
       "      <td>0</td>\n",
       "      <td>Everyone</td>\n",
       "      <td>Education</td>\n",
       "      <td>18-Jun-17</td>\n",
       "      <td>1.0.0</td>\n",
       "      <td>4.1 and up</td>\n",
       "    </tr>\n",
       "    <tr>\n",
       "      <th>7720</th>\n",
       "      <td>10835</td>\n",
       "      <td>Sya9a Maroc - FR</td>\n",
       "      <td>FAMILY</td>\n",
       "      <td>4.5</td>\n",
       "      <td>38</td>\n",
       "      <td>53M</td>\n",
       "      <td>5000</td>\n",
       "      <td>Free</td>\n",
       "      <td>0</td>\n",
       "      <td>Everyone</td>\n",
       "      <td>Education</td>\n",
       "      <td>25-Jul-17</td>\n",
       "      <td>1.48</td>\n",
       "      <td>4.1 and up</td>\n",
       "    </tr>\n",
       "    <tr>\n",
       "      <th>7721</th>\n",
       "      <td>10836</td>\n",
       "      <td>Fr. Mike Schmitz Audio Teachings</td>\n",
       "      <td>FAMILY</td>\n",
       "      <td>5.0</td>\n",
       "      <td>4</td>\n",
       "      <td>3.6M</td>\n",
       "      <td>100</td>\n",
       "      <td>Free</td>\n",
       "      <td>0</td>\n",
       "      <td>Everyone</td>\n",
       "      <td>Education</td>\n",
       "      <td>6-Jul-18</td>\n",
       "      <td>1</td>\n",
       "      <td>4.1 and up</td>\n",
       "    </tr>\n",
       "    <tr>\n",
       "      <th>7722</th>\n",
       "      <td>10839</td>\n",
       "      <td>iHoroscope - 2018 Daily Horoscope &amp; Astrology</td>\n",
       "      <td>LIFESTYLE</td>\n",
       "      <td>4.5</td>\n",
       "      <td>398307</td>\n",
       "      <td>19M</td>\n",
       "      <td>10000000</td>\n",
       "      <td>Free</td>\n",
       "      <td>0</td>\n",
       "      <td>Everyone</td>\n",
       "      <td>Lifestyle</td>\n",
       "      <td>25-Jul-18</td>\n",
       "      <td>Varies with device</td>\n",
       "      <td>Varies with device</td>\n",
       "    </tr>\n",
       "  </tbody>\n",
       "</table>\n",
       "<p>7723 rows × 14 columns</p>\n",
       "</div>"
      ],
      "text/plain": [
       "         ID                                                App  \\\n",
       "0         0     Photo Editor & Candy Camera & Grid & ScrapBook   \n",
       "1         1                                Coloring book moana   \n",
       "2         2  U Launcher Lite – FREE Live Cool Themes, Hide ...   \n",
       "3         3                              Sketch - Draw & Paint   \n",
       "4         4              Pixel Draw - Number Art Coloring Book   \n",
       "...     ...                                                ...   \n",
       "7718  10832                                        Chemin (fr)   \n",
       "7719  10833                                      FR Calculator   \n",
       "7720  10835                                   Sya9a Maroc - FR   \n",
       "7721  10836                   Fr. Mike Schmitz Audio Teachings   \n",
       "7722  10839      iHoroscope - 2018 Daily Horoscope & Astrology   \n",
       "\n",
       "                 Category  Rating  Reviews  Size  Installs_plus  Type Price  \\\n",
       "0          ART_AND_DESIGN     4.1      159   19M          10000  Free     0   \n",
       "1          ART_AND_DESIGN     3.9      967   14M         500000  Free     0   \n",
       "2          ART_AND_DESIGN     4.7    87510  8.7M        5000000  Free     0   \n",
       "3          ART_AND_DESIGN     4.5   215644   25M       50000000  Free     0   \n",
       "4          ART_AND_DESIGN     4.3      967  2.8M         100000  Free     0   \n",
       "...                   ...     ...      ...   ...            ...   ...   ...   \n",
       "7718  BOOKS_AND_REFERENCE     4.8       44  619k           1000  Free     0   \n",
       "7719               FAMILY     4.0        7  2.6M            500  Free     0   \n",
       "7720               FAMILY     4.5       38   53M           5000  Free     0   \n",
       "7721               FAMILY     5.0        4  3.6M            100  Free     0   \n",
       "7722            LIFESTYLE     4.5   398307   19M       10000000  Free     0   \n",
       "\n",
       "     Content Rating                     Genres Last Updated  \\\n",
       "0          Everyone               Art & Design     7-Jan-18   \n",
       "1          Everyone  Art & Design;Pretend Play    15-Jan-18   \n",
       "2          Everyone               Art & Design     1-Aug-18   \n",
       "3              Teen               Art & Design     8-Jun-18   \n",
       "4          Everyone    Art & Design;Creativity    20-Jun-18   \n",
       "...             ...                        ...          ...   \n",
       "7718       Everyone          Books & Reference    23-Mar-14   \n",
       "7719       Everyone                  Education    18-Jun-17   \n",
       "7720       Everyone                  Education    25-Jul-17   \n",
       "7721       Everyone                  Education     6-Jul-18   \n",
       "7722       Everyone                  Lifestyle    25-Jul-18   \n",
       "\n",
       "             Current Ver         Android Ver  \n",
       "0                  1.0.0        4.0.3 and up  \n",
       "1                  2.0.0        4.0.3 and up  \n",
       "2                  1.2.4        4.0.3 and up  \n",
       "3     Varies with device          4.2 and up  \n",
       "4                    1.1          4.4 and up  \n",
       "...                  ...                 ...  \n",
       "7718                 0.8          2.2 and up  \n",
       "7719               1.0.0          4.1 and up  \n",
       "7720                1.48          4.1 and up  \n",
       "7721                   1          4.1 and up  \n",
       "7722  Varies with device  Varies with device  \n",
       "\n",
       "[7723 rows x 14 columns]"
      ]
     },
     "execution_count": 23,
     "metadata": {},
     "output_type": "execute_result"
    }
   ],
   "source": [
    "googleplaystore"
   ]
  },
  {
   "cell_type": "code",
   "execution_count": 125,
   "id": "bb0debfa-7840-4824-8440-5231ead26589",
   "metadata": {},
   "outputs": [
    {
     "data": {
      "text/html": [
       "<div>\n",
       "<style scoped>\n",
       "    .dataframe tbody tr th:only-of-type {\n",
       "        vertical-align: middle;\n",
       "    }\n",
       "\n",
       "    .dataframe tbody tr th {\n",
       "        vertical-align: top;\n",
       "    }\n",
       "\n",
       "    .dataframe thead th {\n",
       "        text-align: right;\n",
       "    }\n",
       "</style>\n",
       "<table border=\"1\" class=\"dataframe\">\n",
       "  <thead>\n",
       "    <tr style=\"text-align: right;\">\n",
       "      <th></th>\n",
       "      <th>ID</th>\n",
       "      <th>App</th>\n",
       "      <th>Category</th>\n",
       "      <th>Rating</th>\n",
       "      <th>Reviews</th>\n",
       "      <th>Size</th>\n",
       "      <th>Installs_plus</th>\n",
       "      <th>Type</th>\n",
       "      <th>Price</th>\n",
       "      <th>Content Rating</th>\n",
       "      <th>Genres</th>\n",
       "      <th>Last Updated</th>\n",
       "      <th>Current Ver</th>\n",
       "      <th>Android Ver</th>\n",
       "    </tr>\n",
       "  </thead>\n",
       "  <tbody>\n",
       "    <tr>\n",
       "      <th>174</th>\n",
       "      <td>234</td>\n",
       "      <td>TurboScan: scan documents and receipts in PDF</td>\n",
       "      <td>BUSINESS</td>\n",
       "      <td>4.7</td>\n",
       "      <td>11442</td>\n",
       "      <td>6.8M</td>\n",
       "      <td>100000</td>\n",
       "      <td>Paid</td>\n",
       "      <td>$4.99</td>\n",
       "      <td>Everyone</td>\n",
       "      <td>Business</td>\n",
       "      <td>25-Mar-18</td>\n",
       "      <td>1.5.2</td>\n",
       "      <td>4.0 and up</td>\n",
       "    </tr>\n",
       "    <tr>\n",
       "      <th>175</th>\n",
       "      <td>235</td>\n",
       "      <td>Tiny Scanner Pro: PDF Doc Scan</td>\n",
       "      <td>BUSINESS</td>\n",
       "      <td>4.8</td>\n",
       "      <td>10295</td>\n",
       "      <td>39M</td>\n",
       "      <td>100000</td>\n",
       "      <td>Paid</td>\n",
       "      <td>$4.99</td>\n",
       "      <td>Everyone</td>\n",
       "      <td>Business</td>\n",
       "      <td>11-Apr-17</td>\n",
       "      <td>3.4.6</td>\n",
       "      <td>3.0 and up</td>\n",
       "    </tr>\n",
       "    <tr>\n",
       "      <th>320</th>\n",
       "      <td>477</td>\n",
       "      <td>Calculator</td>\n",
       "      <td>DATING</td>\n",
       "      <td>2.6</td>\n",
       "      <td>57</td>\n",
       "      <td>6.2M</td>\n",
       "      <td>1000</td>\n",
       "      <td>Paid</td>\n",
       "      <td>$6.99</td>\n",
       "      <td>Everyone</td>\n",
       "      <td>Dating</td>\n",
       "      <td>25-Oct-17</td>\n",
       "      <td>1.1.6</td>\n",
       "      <td>4.0 and up</td>\n",
       "    </tr>\n",
       "    <tr>\n",
       "      <th>321</th>\n",
       "      <td>481</td>\n",
       "      <td>AMBW Dating App: Asian Men Black Women Interra...</td>\n",
       "      <td>DATING</td>\n",
       "      <td>3.5</td>\n",
       "      <td>2</td>\n",
       "      <td>17M</td>\n",
       "      <td>100</td>\n",
       "      <td>Paid</td>\n",
       "      <td>$7.99</td>\n",
       "      <td>Mature 17+</td>\n",
       "      <td>Dating</td>\n",
       "      <td>21-Jan-17</td>\n",
       "      <td>1.0.1</td>\n",
       "      <td>4.0 and up</td>\n",
       "    </tr>\n",
       "    <tr>\n",
       "      <th>592</th>\n",
       "      <td>851</td>\n",
       "      <td>Sago Mini Hat Maker</td>\n",
       "      <td>EDUCATION</td>\n",
       "      <td>4.9</td>\n",
       "      <td>11</td>\n",
       "      <td>63M</td>\n",
       "      <td>1000</td>\n",
       "      <td>Paid</td>\n",
       "      <td>$3.99</td>\n",
       "      <td>Everyone</td>\n",
       "      <td>Education;Pretend Play</td>\n",
       "      <td>24-Jul-17</td>\n",
       "      <td>1</td>\n",
       "      <td>4.0.3 and up</td>\n",
       "    </tr>\n",
       "    <tr>\n",
       "      <th>...</th>\n",
       "      <td>...</td>\n",
       "      <td>...</td>\n",
       "      <td>...</td>\n",
       "      <td>...</td>\n",
       "      <td>...</td>\n",
       "      <td>...</td>\n",
       "      <td>...</td>\n",
       "      <td>...</td>\n",
       "      <td>...</td>\n",
       "      <td>...</td>\n",
       "      <td>...</td>\n",
       "      <td>...</td>\n",
       "      <td>...</td>\n",
       "      <td>...</td>\n",
       "    </tr>\n",
       "    <tr>\n",
       "      <th>7628</th>\n",
       "      <td>10689</td>\n",
       "      <td>FO Bixby</td>\n",
       "      <td>PERSONALIZATION</td>\n",
       "      <td>5.0</td>\n",
       "      <td>5</td>\n",
       "      <td>861k</td>\n",
       "      <td>100</td>\n",
       "      <td>Paid</td>\n",
       "      <td>$0.99</td>\n",
       "      <td>Everyone</td>\n",
       "      <td>Personalization</td>\n",
       "      <td>25-Apr-18</td>\n",
       "      <td>0.2</td>\n",
       "      <td>7.0 and up</td>\n",
       "    </tr>\n",
       "    <tr>\n",
       "      <th>7630</th>\n",
       "      <td>10696</td>\n",
       "      <td>Mu.F.O.</td>\n",
       "      <td>GAME</td>\n",
       "      <td>5.0</td>\n",
       "      <td>2</td>\n",
       "      <td>16M</td>\n",
       "      <td>1</td>\n",
       "      <td>Paid</td>\n",
       "      <td>$0.99</td>\n",
       "      <td>Everyone</td>\n",
       "      <td>Arcade</td>\n",
       "      <td>3-Mar-17</td>\n",
       "      <td>1</td>\n",
       "      <td>2.3 and up</td>\n",
       "    </tr>\n",
       "    <tr>\n",
       "      <th>7671</th>\n",
       "      <td>10759</td>\n",
       "      <td>Fast Tract Diet</td>\n",
       "      <td>HEALTH_AND_FITNESS</td>\n",
       "      <td>4.4</td>\n",
       "      <td>35</td>\n",
       "      <td>2.4M</td>\n",
       "      <td>1000</td>\n",
       "      <td>Paid</td>\n",
       "      <td>$7.99</td>\n",
       "      <td>Everyone</td>\n",
       "      <td>Health &amp; Fitness</td>\n",
       "      <td>8-Aug-18</td>\n",
       "      <td>1.9.3</td>\n",
       "      <td>4.2 and up</td>\n",
       "    </tr>\n",
       "    <tr>\n",
       "      <th>7684</th>\n",
       "      <td>10781</td>\n",
       "      <td>Trine 2: Complete Story</td>\n",
       "      <td>GAME</td>\n",
       "      <td>3.8</td>\n",
       "      <td>252</td>\n",
       "      <td>11M</td>\n",
       "      <td>10000</td>\n",
       "      <td>Paid</td>\n",
       "      <td>$16.99</td>\n",
       "      <td>Teen</td>\n",
       "      <td>Action</td>\n",
       "      <td>27-Feb-15</td>\n",
       "      <td>2.22</td>\n",
       "      <td>5.0 and up</td>\n",
       "    </tr>\n",
       "    <tr>\n",
       "      <th>7687</th>\n",
       "      <td>10784</td>\n",
       "      <td>sugar, sugar</td>\n",
       "      <td>FAMILY</td>\n",
       "      <td>4.2</td>\n",
       "      <td>1405</td>\n",
       "      <td>9.5M</td>\n",
       "      <td>10000</td>\n",
       "      <td>Paid</td>\n",
       "      <td>$1.20</td>\n",
       "      <td>Everyone</td>\n",
       "      <td>Puzzle</td>\n",
       "      <td>5-Jun-18</td>\n",
       "      <td>2.7</td>\n",
       "      <td>2.3 and up</td>\n",
       "    </tr>\n",
       "  </tbody>\n",
       "</table>\n",
       "<p>539 rows × 14 columns</p>\n",
       "</div>"
      ],
      "text/plain": [
       "         ID                                                App  \\\n",
       "174     234      TurboScan: scan documents and receipts in PDF   \n",
       "175     235                     Tiny Scanner Pro: PDF Doc Scan   \n",
       "320     477                                         Calculator   \n",
       "321     481  AMBW Dating App: Asian Men Black Women Interra...   \n",
       "592     851                                Sago Mini Hat Maker   \n",
       "...     ...                                                ...   \n",
       "7628  10689                                           FO Bixby   \n",
       "7630  10696                                            Mu.F.O.   \n",
       "7671  10759                                    Fast Tract Diet   \n",
       "7684  10781                            Trine 2: Complete Story   \n",
       "7687  10784                                       sugar, sugar   \n",
       "\n",
       "                Category  Rating  Reviews  Size  Installs_plus  Type    Price  \\\n",
       "174             BUSINESS     4.7    11442  6.8M         100000  Paid   $4.99    \n",
       "175             BUSINESS     4.8    10295   39M         100000  Paid   $4.99    \n",
       "320               DATING     2.6       57  6.2M           1000  Paid   $6.99    \n",
       "321               DATING     3.5        2   17M            100  Paid   $7.99    \n",
       "592            EDUCATION     4.9       11   63M           1000  Paid   $3.99    \n",
       "...                  ...     ...      ...   ...            ...   ...      ...   \n",
       "7628     PERSONALIZATION     5.0        5  861k            100  Paid   $0.99    \n",
       "7630                GAME     5.0        2   16M              1  Paid   $0.99    \n",
       "7671  HEALTH_AND_FITNESS     4.4       35  2.4M           1000  Paid   $7.99    \n",
       "7684                GAME     3.8      252   11M          10000  Paid  $16.99    \n",
       "7687              FAMILY     4.2     1405  9.5M          10000  Paid   $1.20    \n",
       "\n",
       "     Content Rating                  Genres Last Updated Current Ver  \\\n",
       "174        Everyone                Business    25-Mar-18       1.5.2   \n",
       "175        Everyone                Business    11-Apr-17       3.4.6   \n",
       "320        Everyone                  Dating    25-Oct-17       1.1.6   \n",
       "321      Mature 17+                  Dating    21-Jan-17       1.0.1   \n",
       "592        Everyone  Education;Pretend Play    24-Jul-17           1   \n",
       "...             ...                     ...          ...         ...   \n",
       "7628       Everyone         Personalization    25-Apr-18         0.2   \n",
       "7630       Everyone                  Arcade     3-Mar-17           1   \n",
       "7671       Everyone        Health & Fitness     8-Aug-18       1.9.3   \n",
       "7684           Teen                  Action    27-Feb-15        2.22   \n",
       "7687       Everyone                  Puzzle     5-Jun-18         2.7   \n",
       "\n",
       "       Android Ver  \n",
       "174     4.0 and up  \n",
       "175     3.0 and up  \n",
       "320     4.0 and up  \n",
       "321     4.0 and up  \n",
       "592   4.0.3 and up  \n",
       "...            ...  \n",
       "7628    7.0 and up  \n",
       "7630    2.3 and up  \n",
       "7671    4.2 and up  \n",
       "7684    5.0 and up  \n",
       "7687    2.3 and up  \n",
       "\n",
       "[539 rows x 14 columns]"
      ]
     },
     "execution_count": 125,
     "metadata": {},
     "output_type": "execute_result"
    }
   ],
   "source": [
    "googleplaystore[googleplaystore['Type']=='Paid']"
   ]
  },
  {
   "cell_type": "code",
   "execution_count": 25,
   "id": "2792b660-41ae-4463-90e6-503f4189441a",
   "metadata": {},
   "outputs": [
    {
     "name": "stdout",
     "output_type": "stream",
     "text": [
      "<class 'pandas.core.frame.DataFrame'>\n",
      "RangeIndex: 7723 entries, 0 to 7722\n",
      "Data columns (total 14 columns):\n",
      " #   Column          Non-Null Count  Dtype  \n",
      "---  ------          --------------  -----  \n",
      " 0   ID              7723 non-null   int64  \n",
      " 1   App             7723 non-null   object \n",
      " 2   Category        7723 non-null   object \n",
      " 3   Rating          7723 non-null   float64\n",
      " 4   Reviews         7723 non-null   int64  \n",
      " 5   Size            7723 non-null   object \n",
      " 6   Installs_plus   7723 non-null   int64  \n",
      " 7   Type            7723 non-null   object \n",
      " 8   Price           7723 non-null   object \n",
      " 9   Content Rating  7723 non-null   object \n",
      " 10  Genres          7723 non-null   object \n",
      " 11  Last Updated    7723 non-null   object \n",
      " 12  Current Ver     7723 non-null   object \n",
      " 13  Android Ver     7723 non-null   object \n",
      "dtypes: float64(1), int64(3), object(10)\n",
      "memory usage: 844.8+ KB\n"
     ]
    }
   ],
   "source": [
    "#cek tipe data\n",
    "googleplaystore.info()"
   ]
  },
  {
   "cell_type": "code",
   "execution_count": 27,
   "id": "5b7c7990-a1da-4676-b497-918ce3badddd",
   "metadata": {},
   "outputs": [
    {
     "data": {
      "text/plain": [
       "ID                0\n",
       "App               0\n",
       "Category          0\n",
       "Rating            0\n",
       "Reviews           0\n",
       "Size              0\n",
       "Installs_plus     0\n",
       "Type              0\n",
       "Price             0\n",
       "Content Rating    0\n",
       "Genres            0\n",
       "Last Updated      0\n",
       "Current Ver       0\n",
       "Android Ver       0\n",
       "dtype: int64"
      ]
     },
     "execution_count": 27,
     "metadata": {},
     "output_type": "execute_result"
    }
   ],
   "source": [
    "#cek data null\n",
    "googleplaystore.isna().sum()"
   ]
  },
  {
   "cell_type": "code",
   "execution_count": 29,
   "id": "169c2c95-494c-4cdf-a0d5-d10023dde415",
   "metadata": {},
   "outputs": [
    {
     "data": {
      "text/plain": [
       "700"
      ]
     },
     "execution_count": 29,
     "metadata": {},
     "output_type": "execute_result"
    }
   ],
   "source": [
    "#cek data duplikat pada apps\n",
    "googleplaystore[\"App\"].duplicated().sum()"
   ]
  },
  {
   "cell_type": "markdown",
   "id": "515e2195-60bd-4ae5-a3bb-b618ddb54bdd",
   "metadata": {},
   "source": [
    "Terdapat 700 data duplikat pada kolom 'App' sehingga perlu untuk men-drop data duplikat tersebut"
   ]
  },
  {
   "cell_type": "code",
   "execution_count": 31,
   "id": "cfd4c9e4-ae40-41c7-bc4a-5c4707944594",
   "metadata": {},
   "outputs": [],
   "source": [
    "# drop data duplikat dan mengkeep first occurence dari data\n",
    "\n",
    "googleplaystore= googleplaystore.drop_duplicates(subset=['App'], keep= 'first')"
   ]
  },
  {
   "cell_type": "code",
   "execution_count": 33,
   "id": "485c32ae-e692-4065-a319-acbe2d514fef",
   "metadata": {},
   "outputs": [
    {
     "data": {
      "text/plain": [
       "0"
      ]
     },
     "execution_count": 33,
     "metadata": {},
     "output_type": "execute_result"
    }
   ],
   "source": [
    "#cross-cek data duplikat pada apps\n",
    "googleplaystore[\"App\"].duplicated().sum()"
   ]
  },
  {
   "cell_type": "code",
   "execution_count": 35,
   "id": "eebcc5c8-1185-4137-827c-43a4630682ff",
   "metadata": {},
   "outputs": [
    {
     "data": {
      "text/html": [
       "<div>\n",
       "<style scoped>\n",
       "    .dataframe tbody tr th:only-of-type {\n",
       "        vertical-align: middle;\n",
       "    }\n",
       "\n",
       "    .dataframe tbody tr th {\n",
       "        vertical-align: top;\n",
       "    }\n",
       "\n",
       "    .dataframe thead th {\n",
       "        text-align: right;\n",
       "    }\n",
       "</style>\n",
       "<table border=\"1\" class=\"dataframe\">\n",
       "  <thead>\n",
       "    <tr style=\"text-align: right;\">\n",
       "      <th></th>\n",
       "      <th>Category</th>\n",
       "      <th>Type</th>\n",
       "      <th>Installs_plus</th>\n",
       "    </tr>\n",
       "  </thead>\n",
       "  <tbody>\n",
       "    <tr>\n",
       "      <th>0</th>\n",
       "      <td>ART_AND_DESIGN</td>\n",
       "      <td>Free</td>\n",
       "      <td>99212100</td>\n",
       "    </tr>\n",
       "    <tr>\n",
       "      <th>1</th>\n",
       "      <td>ART_AND_DESIGN</td>\n",
       "      <td>Paid</td>\n",
       "      <td>16000</td>\n",
       "    </tr>\n",
       "    <tr>\n",
       "      <th>2</th>\n",
       "      <td>AUTO_AND_VEHICLES</td>\n",
       "      <td>Free</td>\n",
       "      <td>43769800</td>\n",
       "    </tr>\n",
       "    <tr>\n",
       "      <th>3</th>\n",
       "      <td>BEAUTY</td>\n",
       "      <td>Free</td>\n",
       "      <td>13416200</td>\n",
       "    </tr>\n",
       "    <tr>\n",
       "      <th>4</th>\n",
       "      <td>BOOKS_AND_REFERENCE</td>\n",
       "      <td>Free</td>\n",
       "      <td>114766505</td>\n",
       "    </tr>\n",
       "    <tr>\n",
       "      <th>5</th>\n",
       "      <td>BOOKS_AND_REFERENCE</td>\n",
       "      <td>Paid</td>\n",
       "      <td>17650</td>\n",
       "    </tr>\n",
       "    <tr>\n",
       "      <th>6</th>\n",
       "      <td>BUSINESS</td>\n",
       "      <td>Free</td>\n",
       "      <td>386070360</td>\n",
       "    </tr>\n",
       "    <tr>\n",
       "      <th>7</th>\n",
       "      <td>BUSINESS</td>\n",
       "      <td>Paid</td>\n",
       "      <td>212560</td>\n",
       "    </tr>\n",
       "    <tr>\n",
       "      <th>8</th>\n",
       "      <td>COMICS</td>\n",
       "      <td>Free</td>\n",
       "      <td>17431100</td>\n",
       "    </tr>\n",
       "    <tr>\n",
       "      <th>9</th>\n",
       "      <td>COMMUNICATION</td>\n",
       "      <td>Free</td>\n",
       "      <td>1817666530</td>\n",
       "    </tr>\n",
       "    <tr>\n",
       "      <th>10</th>\n",
       "      <td>COMMUNICATION</td>\n",
       "      <td>Paid</td>\n",
       "      <td>249000</td>\n",
       "    </tr>\n",
       "    <tr>\n",
       "      <th>11</th>\n",
       "      <td>DATING</td>\n",
       "      <td>Free</td>\n",
       "      <td>84591310</td>\n",
       "    </tr>\n",
       "    <tr>\n",
       "      <th>12</th>\n",
       "      <td>DATING</td>\n",
       "      <td>Paid</td>\n",
       "      <td>1100</td>\n",
       "    </tr>\n",
       "    <tr>\n",
       "      <th>13</th>\n",
       "      <td>EDUCATION</td>\n",
       "      <td>Free</td>\n",
       "      <td>156600000</td>\n",
       "    </tr>\n",
       "    <tr>\n",
       "      <th>14</th>\n",
       "      <td>EDUCATION</td>\n",
       "      <td>Paid</td>\n",
       "      <td>602000</td>\n",
       "    </tr>\n",
       "    <tr>\n",
       "      <th>15</th>\n",
       "      <td>ENTERTAINMENT</td>\n",
       "      <td>Free</td>\n",
       "      <td>637860000</td>\n",
       "    </tr>\n",
       "    <tr>\n",
       "      <th>16</th>\n",
       "      <td>ENTERTAINMENT</td>\n",
       "      <td>Paid</td>\n",
       "      <td>100000</td>\n",
       "    </tr>\n",
       "    <tr>\n",
       "      <th>17</th>\n",
       "      <td>EVENTS</td>\n",
       "      <td>Free</td>\n",
       "      <td>10648400</td>\n",
       "    </tr>\n",
       "    <tr>\n",
       "      <th>18</th>\n",
       "      <td>FAMILY</td>\n",
       "      <td>Free</td>\n",
       "      <td>3542490750</td>\n",
       "    </tr>\n",
       "    <tr>\n",
       "      <th>19</th>\n",
       "      <td>FAMILY</td>\n",
       "      <td>Paid</td>\n",
       "      <td>10170830</td>\n",
       "    </tr>\n",
       "    <tr>\n",
       "      <th>20</th>\n",
       "      <td>FINANCE</td>\n",
       "      <td>Free</td>\n",
       "      <td>244401700</td>\n",
       "    </tr>\n",
       "    <tr>\n",
       "      <th>21</th>\n",
       "      <td>FINANCE</td>\n",
       "      <td>Paid</td>\n",
       "      <td>185600</td>\n",
       "    </tr>\n",
       "    <tr>\n",
       "      <th>22</th>\n",
       "      <td>FOOD_AND_DRINK</td>\n",
       "      <td>Free</td>\n",
       "      <td>136417750</td>\n",
       "    </tr>\n",
       "    <tr>\n",
       "      <th>23</th>\n",
       "      <td>FOOD_AND_DRINK</td>\n",
       "      <td>Paid</td>\n",
       "      <td>50000</td>\n",
       "    </tr>\n",
       "    <tr>\n",
       "      <th>24</th>\n",
       "      <td>GAME</td>\n",
       "      <td>Free</td>\n",
       "      <td>11511553455</td>\n",
       "    </tr>\n",
       "    <tr>\n",
       "      <th>25</th>\n",
       "      <td>GAME</td>\n",
       "      <td>Paid</td>\n",
       "      <td>20799262</td>\n",
       "    </tr>\n",
       "    <tr>\n",
       "      <th>26</th>\n",
       "      <td>HEALTH_AND_FITNESS</td>\n",
       "      <td>Free</td>\n",
       "      <td>756233220</td>\n",
       "    </tr>\n",
       "    <tr>\n",
       "      <th>27</th>\n",
       "      <td>HEALTH_AND_FITNESS</td>\n",
       "      <td>Paid</td>\n",
       "      <td>223000</td>\n",
       "    </tr>\n",
       "    <tr>\n",
       "      <th>28</th>\n",
       "      <td>HOUSE_AND_HOME</td>\n",
       "      <td>Free</td>\n",
       "      <td>51482000</td>\n",
       "    </tr>\n",
       "    <tr>\n",
       "      <th>29</th>\n",
       "      <td>LIBRARIES_AND_DEMO</td>\n",
       "      <td>Free</td>\n",
       "      <td>49983000</td>\n",
       "    </tr>\n",
       "    <tr>\n",
       "      <th>30</th>\n",
       "      <td>LIFESTYLE</td>\n",
       "      <td>Free</td>\n",
       "      <td>403351010</td>\n",
       "    </tr>\n",
       "    <tr>\n",
       "      <th>31</th>\n",
       "      <td>LIFESTYLE</td>\n",
       "      <td>Paid</td>\n",
       "      <td>1168110</td>\n",
       "    </tr>\n",
       "    <tr>\n",
       "      <th>32</th>\n",
       "      <td>MAPS_AND_NAVIGATION</td>\n",
       "      <td>Free</td>\n",
       "      <td>173994460</td>\n",
       "    </tr>\n",
       "    <tr>\n",
       "      <th>33</th>\n",
       "      <td>MAPS_AND_NAVIGATION</td>\n",
       "      <td>Paid</td>\n",
       "      <td>21100</td>\n",
       "    </tr>\n",
       "    <tr>\n",
       "      <th>34</th>\n",
       "      <td>MEDICAL</td>\n",
       "      <td>Free</td>\n",
       "      <td>32075176</td>\n",
       "    </tr>\n",
       "    <tr>\n",
       "      <th>35</th>\n",
       "      <td>MEDICAL</td>\n",
       "      <td>Paid</td>\n",
       "      <td>475000</td>\n",
       "    </tr>\n",
       "    <tr>\n",
       "      <th>36</th>\n",
       "      <td>NEWS_AND_MAGAZINES</td>\n",
       "      <td>Free</td>\n",
       "      <td>1190895050</td>\n",
       "    </tr>\n",
       "    <tr>\n",
       "      <th>37</th>\n",
       "      <td>NEWS_AND_MAGAZINES</td>\n",
       "      <td>Paid</td>\n",
       "      <td>5500</td>\n",
       "    </tr>\n",
       "    <tr>\n",
       "      <th>38</th>\n",
       "      <td>PARENTING</td>\n",
       "      <td>Free</td>\n",
       "      <td>23516010</td>\n",
       "    </tr>\n",
       "    <tr>\n",
       "      <th>39</th>\n",
       "      <td>PARENTING</td>\n",
       "      <td>Paid</td>\n",
       "      <td>50000</td>\n",
       "    </tr>\n",
       "    <tr>\n",
       "      <th>40</th>\n",
       "      <td>PERSONALIZATION</td>\n",
       "      <td>Free</td>\n",
       "      <td>892084410</td>\n",
       "    </tr>\n",
       "    <tr>\n",
       "      <th>41</th>\n",
       "      <td>PERSONALIZATION</td>\n",
       "      <td>Paid</td>\n",
       "      <td>3047520</td>\n",
       "    </tr>\n",
       "    <tr>\n",
       "      <th>42</th>\n",
       "      <td>PHOTOGRAPHY</td>\n",
       "      <td>Free</td>\n",
       "      <td>1492164610</td>\n",
       "    </tr>\n",
       "    <tr>\n",
       "      <th>43</th>\n",
       "      <td>PHOTOGRAPHY</td>\n",
       "      <td>Paid</td>\n",
       "      <td>1728520</td>\n",
       "    </tr>\n",
       "    <tr>\n",
       "      <th>44</th>\n",
       "      <td>PRODUCTIVITY</td>\n",
       "      <td>Free</td>\n",
       "      <td>1295097270</td>\n",
       "    </tr>\n",
       "    <tr>\n",
       "      <th>45</th>\n",
       "      <td>PRODUCTIVITY</td>\n",
       "      <td>Paid</td>\n",
       "      <td>1204810</td>\n",
       "    </tr>\n",
       "    <tr>\n",
       "      <th>46</th>\n",
       "      <td>SHOPPING</td>\n",
       "      <td>Free</td>\n",
       "      <td>710721440</td>\n",
       "    </tr>\n",
       "    <tr>\n",
       "      <th>47</th>\n",
       "      <td>SHOPPING</td>\n",
       "      <td>Paid</td>\n",
       "      <td>10100</td>\n",
       "    </tr>\n",
       "    <tr>\n",
       "      <th>48</th>\n",
       "      <td>SOCIAL</td>\n",
       "      <td>Free</td>\n",
       "      <td>558234475</td>\n",
       "    </tr>\n",
       "    <tr>\n",
       "      <th>49</th>\n",
       "      <td>SOCIAL</td>\n",
       "      <td>Paid</td>\n",
       "      <td>6000</td>\n",
       "    </tr>\n",
       "    <tr>\n",
       "      <th>50</th>\n",
       "      <td>SPORTS</td>\n",
       "      <td>Free</td>\n",
       "      <td>805217665</td>\n",
       "    </tr>\n",
       "    <tr>\n",
       "      <th>51</th>\n",
       "      <td>SPORTS</td>\n",
       "      <td>Paid</td>\n",
       "      <td>1093800</td>\n",
       "    </tr>\n",
       "    <tr>\n",
       "      <th>52</th>\n",
       "      <td>TOOLS</td>\n",
       "      <td>Free</td>\n",
       "      <td>2889107680</td>\n",
       "    </tr>\n",
       "    <tr>\n",
       "      <th>53</th>\n",
       "      <td>TOOLS</td>\n",
       "      <td>Paid</td>\n",
       "      <td>445820</td>\n",
       "    </tr>\n",
       "    <tr>\n",
       "      <th>54</th>\n",
       "      <td>TRAVEL_AND_LOCAL</td>\n",
       "      <td>Free</td>\n",
       "      <td>228566300</td>\n",
       "    </tr>\n",
       "    <tr>\n",
       "      <th>55</th>\n",
       "      <td>TRAVEL_AND_LOCAL</td>\n",
       "      <td>Paid</td>\n",
       "      <td>72000</td>\n",
       "    </tr>\n",
       "    <tr>\n",
       "      <th>56</th>\n",
       "      <td>VIDEO_PLAYERS</td>\n",
       "      <td>Free</td>\n",
       "      <td>866661200</td>\n",
       "    </tr>\n",
       "    <tr>\n",
       "      <th>57</th>\n",
       "      <td>VIDEO_PLAYERS</td>\n",
       "      <td>Paid</td>\n",
       "      <td>1000</td>\n",
       "    </tr>\n",
       "    <tr>\n",
       "      <th>58</th>\n",
       "      <td>WEATHER</td>\n",
       "      <td>Free</td>\n",
       "      <td>128985000</td>\n",
       "    </tr>\n",
       "    <tr>\n",
       "      <th>59</th>\n",
       "      <td>WEATHER</td>\n",
       "      <td>Paid</td>\n",
       "      <td>311500</td>\n",
       "    </tr>\n",
       "  </tbody>\n",
       "</table>\n",
       "</div>"
      ],
      "text/plain": [
       "               Category  Type  Installs_plus\n",
       "0        ART_AND_DESIGN  Free       99212100\n",
       "1        ART_AND_DESIGN  Paid          16000\n",
       "2     AUTO_AND_VEHICLES  Free       43769800\n",
       "3                BEAUTY  Free       13416200\n",
       "4   BOOKS_AND_REFERENCE  Free      114766505\n",
       "5   BOOKS_AND_REFERENCE  Paid          17650\n",
       "6              BUSINESS  Free      386070360\n",
       "7              BUSINESS  Paid         212560\n",
       "8                COMICS  Free       17431100\n",
       "9         COMMUNICATION  Free     1817666530\n",
       "10        COMMUNICATION  Paid         249000\n",
       "11               DATING  Free       84591310\n",
       "12               DATING  Paid           1100\n",
       "13            EDUCATION  Free      156600000\n",
       "14            EDUCATION  Paid         602000\n",
       "15        ENTERTAINMENT  Free      637860000\n",
       "16        ENTERTAINMENT  Paid         100000\n",
       "17               EVENTS  Free       10648400\n",
       "18               FAMILY  Free     3542490750\n",
       "19               FAMILY  Paid       10170830\n",
       "20              FINANCE  Free      244401700\n",
       "21              FINANCE  Paid         185600\n",
       "22       FOOD_AND_DRINK  Free      136417750\n",
       "23       FOOD_AND_DRINK  Paid          50000\n",
       "24                 GAME  Free    11511553455\n",
       "25                 GAME  Paid       20799262\n",
       "26   HEALTH_AND_FITNESS  Free      756233220\n",
       "27   HEALTH_AND_FITNESS  Paid         223000\n",
       "28       HOUSE_AND_HOME  Free       51482000\n",
       "29   LIBRARIES_AND_DEMO  Free       49983000\n",
       "30            LIFESTYLE  Free      403351010\n",
       "31            LIFESTYLE  Paid        1168110\n",
       "32  MAPS_AND_NAVIGATION  Free      173994460\n",
       "33  MAPS_AND_NAVIGATION  Paid          21100\n",
       "34              MEDICAL  Free       32075176\n",
       "35              MEDICAL  Paid         475000\n",
       "36   NEWS_AND_MAGAZINES  Free     1190895050\n",
       "37   NEWS_AND_MAGAZINES  Paid           5500\n",
       "38            PARENTING  Free       23516010\n",
       "39            PARENTING  Paid          50000\n",
       "40      PERSONALIZATION  Free      892084410\n",
       "41      PERSONALIZATION  Paid        3047520\n",
       "42          PHOTOGRAPHY  Free     1492164610\n",
       "43          PHOTOGRAPHY  Paid        1728520\n",
       "44         PRODUCTIVITY  Free     1295097270\n",
       "45         PRODUCTIVITY  Paid        1204810\n",
       "46             SHOPPING  Free      710721440\n",
       "47             SHOPPING  Paid          10100\n",
       "48               SOCIAL  Free      558234475\n",
       "49               SOCIAL  Paid           6000\n",
       "50               SPORTS  Free      805217665\n",
       "51               SPORTS  Paid        1093800\n",
       "52                TOOLS  Free     2889107680\n",
       "53                TOOLS  Paid         445820\n",
       "54     TRAVEL_AND_LOCAL  Free      228566300\n",
       "55     TRAVEL_AND_LOCAL  Paid          72000\n",
       "56        VIDEO_PLAYERS  Free      866661200\n",
       "57        VIDEO_PLAYERS  Paid           1000\n",
       "58              WEATHER  Free      128985000\n",
       "59              WEATHER  Paid         311500"
      ]
     },
     "execution_count": 35,
     "metadata": {},
     "output_type": "execute_result"
    }
   ],
   "source": [
    "#melihat jumlah instalasi per kategori dan tipe (free or paid)\n",
    "apps_category= googleplaystore.groupby(['Category', 'Type'])['Installs_plus'].sum().reset_index()\n",
    "apps_category"
   ]
  },
  {
   "cell_type": "code",
   "execution_count": 37,
   "id": "55b4371e-f3df-49a7-bf0f-777cf1e93594",
   "metadata": {},
   "outputs": [
    {
     "data": {
      "image/png": "[encoded data removed]",
      "text/plain": [
       "<Figure size 1000x600 with 1 Axes>"
      ]
     },
     "metadata": {},
     "output_type": "display_data"
    }
   ],
   "source": [
    "#bar plot total number of installs\n",
    "\n",
    "apps_category_pivot= apps_category.pivot(index='Category', columns='Type', values='Installs_plus').sort_values(by='Free', ascending= True)\n",
    "fig, ax= plt.subplots(figsize=(10,6))\n",
    "apps_category_pivot.plot(kind= 'barh', stacked= True, ax=ax)\n",
    "plt.xlabel('Total Number of Installs (In Million)')\n",
    "plt.ylabel('Category')\n",
    "ax.xaxis.set_major_formatter(ticker.FuncFormatter(lambda x, pos: '{:.1f}'.format(x/1000000)))\n",
    "plt.show()"
   ]
  },
  {
   "cell_type": "markdown",
   "id": "95fa4713-a8f0-468a-bad2-2e527f7f83b8",
   "metadata": {},
   "source": [
    "If we see the graph above, there are three top 3 categories having the highest number of installations:\n",
    "1.\tGame\n",
    "2.\tFamily\n",
    "3.\tTo\n",
    "   ols\n",
    "The paid category can not be seen so clearly, due to very high number of free apps compared to the paid ones\n"
   ]
  },
  {
   "cell_type": "markdown",
   "id": "9837c044-7883-4370-a056-e40cec90c1fd",
   "metadata": {},
   "source": [
    "### Question 2"
   ]
  },
  {
   "cell_type": "code",
   "execution_count": 57,
   "id": "26094b54-6c4e-4757-8027-4077f8dc1213",
   "metadata": {},
   "outputs": [
    {
     "data": {
      "text/html": [
       "<div>\n",
       "<style scoped>\n",
       "    .dataframe tbody tr th:only-of-type {\n",
       "        vertical-align: middle;\n",
       "    }\n",
       "\n",
       "    .dataframe tbody tr th {\n",
       "        vertical-align: top;\n",
       "    }\n",
       "\n",
       "    .dataframe thead th {\n",
       "        text-align: right;\n",
       "    }\n",
       "</style>\n",
       "<table border=\"1\" class=\"dataframe\">\n",
       "  <thead>\n",
       "    <tr style=\"text-align: right;\">\n",
       "      <th></th>\n",
       "      <th>Rating</th>\n",
       "    </tr>\n",
       "    <tr>\n",
       "      <th>Type</th>\n",
       "      <th></th>\n",
       "    </tr>\n",
       "  </thead>\n",
       "  <tbody>\n",
       "    <tr>\n",
       "      <th>Free</th>\n",
       "      <td>4.3</td>\n",
       "    </tr>\n",
       "    <tr>\n",
       "      <th>Paid</th>\n",
       "      <td>4.4</td>\n",
       "    </tr>\n",
       "  </tbody>\n",
       "</table>\n",
       "</div>"
      ],
      "text/plain": [
       "      Rating\n",
       "Type        \n",
       "Free     4.3\n",
       "Paid     4.4"
      ]
     },
     "execution_count": 57,
     "metadata": {},
     "output_type": "execute_result"
    }
   ],
   "source": [
    "apps_type_ratings= googleplaystore.groupby(['Type'])['Rating'].median()\n",
    "apps_type_ratings= pd.DataFrame(apps_type_ratings)\n",
    "apps_type_ratings"
   ]
  },
  {
   "cell_type": "code",
   "execution_count": 53,
   "id": "37347e12-2305-40ed-a4e9-da55cf686bdc",
   "metadata": {},
   "outputs": [
    {
     "name": "stderr",
     "output_type": "stream",
     "text": [
      "C:\\Users\\zilmi.nugroho\\AppData\\Local\\Temp\\ipykernel_27672\\4070057378.py:2: FutureWarning: \n",
      "\n",
      "Passing `palette` without assigning `hue` is deprecated and will be removed in v0.14.0. Assign the `x` variable to `hue` and set `legend=False` for the same effect.\n",
      "\n",
      "  sns.barplot(x='Type', y='Rating', data=apps_type_ratings, palette='viridis')\n"
     ]
    },
    {
     "data": {
      "image/png": "[encoded data removed]",
      "text/plain": [
       "<Figure size 600x500 with 1 Axes>"
      ]
     },
     "metadata": {},
     "output_type": "display_data"
    }
   ],
   "source": [
    "plt.figure(figsize=(6, 5))\n",
    "sns.barplot(x='Type', y='Rating', data=apps_type_ratings, palette='viridis')\n",
    "\n",
    "# Add labels and title\n",
    "plt.xlabel('App Type')\n",
    "plt.ylabel('Median Rating')\n",
    "plt.title('Median Ratings by App Type')\n",
    "\n",
    "# Show the plot\n",
    "plt.xticks(rotation=45)\n",
    "plt.tight_layout()\n",
    "plt.show()"
   ]
  },
  {
   "cell_type": "code",
   "execution_count": 79,
   "id": "7013d12f-681e-4206-a2de-2f6fa51b94d2",
   "metadata": {},
   "outputs": [],
   "source": [
    "# Agregate aslo with apps count, rating median, and average installments\n",
    "apps_type_count_rating_install= googleplaystore.groupby(['Type']).agg(\n",
    "    count= ('Type', 'count'),\n",
    "    rating_median= ('Rating', 'median'),\n",
    "    install_avg= ('Installs_plus', 'mean')\n",
    ").reset_index()\n",
    "apps_type_count_rating_install= pd.DataFrame(apps_type_count_rating_install)\n",
    "apps_type_count_rating_install['install_avg']= apps_type_count_rating_install['install_avg'].round(0).astype(int)"
   ]
  },
  {
   "cell_type": "code",
   "execution_count": 77,
   "id": "5ca813de-61f2-4b69-9f30-823622dd94ac",
   "metadata": {},
   "outputs": [
    {
     "data": {
      "text/html": [
       "<div>\n",
       "<style scoped>\n",
       "    .dataframe tbody tr th:only-of-type {\n",
       "        vertical-align: middle;\n",
       "    }\n",
       "\n",
       "    .dataframe tbody tr th {\n",
       "        vertical-align: top;\n",
       "    }\n",
       "\n",
       "    .dataframe thead th {\n",
       "        text-align: right;\n",
       "    }\n",
       "</style>\n",
       "<table border=\"1\" class=\"dataframe\">\n",
       "  <thead>\n",
       "    <tr style=\"text-align: right;\">\n",
       "      <th></th>\n",
       "      <th>Type</th>\n",
       "      <th>count</th>\n",
       "      <th>rating_median</th>\n",
       "      <th>install_avg</th>\n",
       "    </tr>\n",
       "  </thead>\n",
       "  <tbody>\n",
       "    <tr>\n",
       "      <th>0</th>\n",
       "      <td>Free</td>\n",
       "      <td>6484</td>\n",
       "      <td>4.3</td>\n",
       "      <td>4837333</td>\n",
       "    </tr>\n",
       "    <tr>\n",
       "      <th>1</th>\n",
       "      <td>Paid</td>\n",
       "      <td>539</td>\n",
       "      <td>4.4</td>\n",
       "      <td>78419</td>\n",
       "    </tr>\n",
       "  </tbody>\n",
       "</table>\n",
       "</div>"
      ],
      "text/plain": [
       "   Type  count  rating_median  install_avg\n",
       "0  Free   6484            4.3      4837333\n",
       "1  Paid    539            4.4        78419"
      ]
     },
     "execution_count": 77,
     "metadata": {},
     "output_type": "execute_result"
    }
   ],
   "source": [
    "apps_type_count_rating_install"
   ]
  },
  {
   "cell_type": "code",
   "execution_count": 89,
   "id": "d2bf0b8a-e4b9-4019-834b-0c4624f5b8eb",
   "metadata": {},
   "outputs": [
    {
     "data": {
      "text/plain": [
       "<Axes: xlabel='Rating', ylabel='Count'>"
      ]
     },
     "execution_count": 89,
     "metadata": {},
     "output_type": "execute_result"
    },
    {
     "data": {
      "image/png": "[encoded data removed]",
      "text/plain": [
       "<Figure size 640x480 with 1 Axes>"
      ]
     },
     "metadata": {},
     "output_type": "display_data"
    }
   ],
   "source": [
    "#histogram plot dari ratings, paid apps\n",
    "sns.histplot(googleplaystore['Rating'].loc[googleplaystore['Type'] == 'Paid'], bins= 100, kde= True)"
   ]
  },
  {
   "cell_type": "code",
   "execution_count": 91,
   "id": "71355fa6-b448-427f-b43c-d11dacb3046a",
   "metadata": {},
   "outputs": [
    {
     "data": {
      "text/plain": [
       "<Axes: xlabel='Rating', ylabel='Count'>"
      ]
     },
     "execution_count": 91,
     "metadata": {},
     "output_type": "execute_result"
    },
    {
     "data": {
      "image/png": "[encoded data removed]",
      "text/plain": [
       "<Figure size 640x480 with 1 Axes>"
      ]
     },
     "metadata": {},
     "output_type": "display_data"
    }
   ],
   "source": [
    "#histogram plot dari ratings, free apps\n",
    "sns.histplot(googleplaystore['Rating'].loc[googleplaystore['Type'] == 'Free'], bins= 100, kde= True)"
   ]
  },
  {
   "cell_type": "code",
   "execution_count": 83,
   "id": "5c1efb3a-dc9f-4034-9ab5-610313dcee47",
   "metadata": {},
   "outputs": [
    {
     "name": "stderr",
     "output_type": "stream",
     "text": [
      "C:\\Users\\zilmi.nugroho\\AppData\\Local\\Temp\\ipykernel_27672\\1622373845.py:7: SettingWithCopyWarning: \n",
      "A value is trying to be set on a copy of a slice from a DataFrame.\n",
      "Try using .loc[row_indexer,col_indexer] = value instead\n",
      "\n",
      "See the caveats in the documentation: https://pandas.pydata.org/pandas-docs/stable/user_guide/indexing.html#returning-a-view-versus-a-copy\n",
      "  googleplaystore['Price'] = googleplaystore['Price'].apply(convert_to_float)\n"
     ]
    }
   ],
   "source": [
    "#convert price value into float type\n",
    "\n",
    "def convert_to_float(value):\n",
    "    return float(value.replace('$', ''))\n",
    "\n",
    "# Apply the conversion function to the 'Prices' column\n",
    "googleplaystore['Price'] = googleplaystore['Price'].apply(convert_to_float)"
   ]
  },
  {
   "cell_type": "code",
   "execution_count": 85,
   "id": "ceac2b23-f44c-4715-a8cd-9132b60cb094",
   "metadata": {},
   "outputs": [
    {
     "data": {
      "image/png": "[encoded data removed]",
      "text/plain": [
       "<Figure size 600x500 with 1 Axes>"
      ]
     },
     "metadata": {},
     "output_type": "display_data"
    }
   ],
   "source": [
    "# plot price vs ratings\n",
    "plt.figure(figsize = (6,5))\n",
    "sns.scatterplot(x= 'Price', y= 'Rating', data= googleplaystore[googleplaystore['Type']=='Paid'])\n",
    "\n",
    "plt.xlabel('Price')\n",
    "plt.ylabel('Rating')\n",
    "plt.title('Price vs Ratings')\n",
    "\n",
    "plt.show()"
   ]
  },
  {
   "cell_type": "code",
   "execution_count": 200,
   "id": "b4f473fc-0468-4867-98c9-1ce7d7b91898",
   "metadata": {},
   "outputs": [
    {
     "name": "stdout",
     "output_type": "stream",
     "text": [
      "Kendall Correlation: 0.051907392818310194\n",
      "Spearman Correlation: 0.06260872782684619\n"
     ]
    }
   ],
   "source": [
    "# Calculate Kendall and Spearman correlation\n",
    "kendall_corr = googleplaystore[['Price', 'Rating']].corr(method='kendall').iloc[0, 1]\n",
    "spearman_corr = googleplaystore[['Price', 'Rating']].corr(method='spearman').iloc[0, 1]\n",
    "\n",
    "print(f\"Kendall Correlation: {kendall_corr}\")\n",
    "print(f\"Spearman Correlation: {spearman_corr}\")"
   ]
  },
  {
   "cell_type": "code",
   "execution_count": 91,
   "id": "c7275a83-5bf1-4e89-a7e9-9e4d8d2d4ab2",
   "metadata": {},
   "outputs": [
    {
     "ename": "AttributeError",
     "evalue": "'float' object has no attribute 'endswith'",
     "output_type": "error",
     "traceback": [
      "\u001b[1;31m---------------------------------------------------------------------------\u001b[0m",
      "\u001b[1;31mAttributeError\u001b[0m                            Traceback (most recent call last)",
      "Cell \u001b[1;32mIn[91], line 10\u001b[0m\n\u001b[0;32m      7\u001b[0m         \u001b[38;5;28;01mreturn\u001b[39;00m \u001b[38;5;28mfloat\u001b[39m(size)  \u001b[38;5;66;03m# Convert directly if no suffix\u001b[39;00m\n\u001b[0;32m      9\u001b[0m \u001b[38;5;66;03m# Apply the conversion function to the 'Size' column\u001b[39;00m\n\u001b[1;32m---> 10\u001b[0m googleplaystore[\u001b[38;5;124m'\u001b[39m\u001b[38;5;124mSize\u001b[39m\u001b[38;5;124m'\u001b[39m] \u001b[38;5;241m=\u001b[39m googleplaystore[\u001b[38;5;124m'\u001b[39m\u001b[38;5;124mSize\u001b[39m\u001b[38;5;124m'\u001b[39m]\u001b[38;5;241m.\u001b[39mapply(convert_size_to_mb)\n",
      "File \u001b[1;32md:\\anaconda3\\Lib\\site-packages\\pandas\\core\\series.py:4924\u001b[0m, in \u001b[0;36mSeries.apply\u001b[1;34m(self, func, convert_dtype, args, by_row, **kwargs)\u001b[0m\n\u001b[0;32m   4789\u001b[0m \u001b[38;5;28;01mdef\u001b[39;00m \u001b[38;5;21mapply\u001b[39m(\n\u001b[0;32m   4790\u001b[0m     \u001b[38;5;28mself\u001b[39m,\n\u001b[0;32m   4791\u001b[0m     func: AggFuncType,\n\u001b[1;32m   (...)\u001b[0m\n\u001b[0;32m   4796\u001b[0m     \u001b[38;5;241m*\u001b[39m\u001b[38;5;241m*\u001b[39mkwargs,\n\u001b[0;32m   4797\u001b[0m ) \u001b[38;5;241m-\u001b[39m\u001b[38;5;241m>\u001b[39m DataFrame \u001b[38;5;241m|\u001b[39m Series:\n\u001b[0;32m   4798\u001b[0m \u001b[38;5;250m    \u001b[39m\u001b[38;5;124;03m\"\"\"\u001b[39;00m\n\u001b[0;32m   4799\u001b[0m \u001b[38;5;124;03m    Invoke function on values of Series.\u001b[39;00m\n\u001b[0;32m   4800\u001b[0m \n\u001b[1;32m   (...)\u001b[0m\n\u001b[0;32m   4915\u001b[0m \u001b[38;5;124;03m    dtype: float64\u001b[39;00m\n\u001b[0;32m   4916\u001b[0m \u001b[38;5;124;03m    \"\"\"\u001b[39;00m\n\u001b[0;32m   4917\u001b[0m     \u001b[38;5;28;01mreturn\u001b[39;00m SeriesApply(\n\u001b[0;32m   4918\u001b[0m         \u001b[38;5;28mself\u001b[39m,\n\u001b[0;32m   4919\u001b[0m         func,\n\u001b[0;32m   4920\u001b[0m         convert_dtype\u001b[38;5;241m=\u001b[39mconvert_dtype,\n\u001b[0;32m   4921\u001b[0m         by_row\u001b[38;5;241m=\u001b[39mby_row,\n\u001b[0;32m   4922\u001b[0m         args\u001b[38;5;241m=\u001b[39margs,\n\u001b[0;32m   4923\u001b[0m         kwargs\u001b[38;5;241m=\u001b[39mkwargs,\n\u001b[1;32m-> 4924\u001b[0m     )\u001b[38;5;241m.\u001b[39mapply()\n",
      "File \u001b[1;32md:\\anaconda3\\Lib\\site-packages\\pandas\\core\\apply.py:1427\u001b[0m, in \u001b[0;36mSeriesApply.apply\u001b[1;34m(self)\u001b[0m\n\u001b[0;32m   1424\u001b[0m     \u001b[38;5;28;01mreturn\u001b[39;00m \u001b[38;5;28mself\u001b[39m\u001b[38;5;241m.\u001b[39mapply_compat()\n\u001b[0;32m   1426\u001b[0m \u001b[38;5;66;03m# self.func is Callable\u001b[39;00m\n\u001b[1;32m-> 1427\u001b[0m \u001b[38;5;28;01mreturn\u001b[39;00m \u001b[38;5;28mself\u001b[39m\u001b[38;5;241m.\u001b[39mapply_standard()\n",
      "File \u001b[1;32md:\\anaconda3\\Lib\\site-packages\\pandas\\core\\apply.py:1507\u001b[0m, in \u001b[0;36mSeriesApply.apply_standard\u001b[1;34m(self)\u001b[0m\n\u001b[0;32m   1501\u001b[0m \u001b[38;5;66;03m# row-wise access\u001b[39;00m\n\u001b[0;32m   1502\u001b[0m \u001b[38;5;66;03m# apply doesn't have a `na_action` keyword and for backward compat reasons\u001b[39;00m\n\u001b[0;32m   1503\u001b[0m \u001b[38;5;66;03m# we need to give `na_action=\"ignore\"` for categorical data.\u001b[39;00m\n\u001b[0;32m   1504\u001b[0m \u001b[38;5;66;03m# TODO: remove the `na_action=\"ignore\"` when that default has been changed in\u001b[39;00m\n\u001b[0;32m   1505\u001b[0m \u001b[38;5;66;03m#  Categorical (GH51645).\u001b[39;00m\n\u001b[0;32m   1506\u001b[0m action \u001b[38;5;241m=\u001b[39m \u001b[38;5;124m\"\u001b[39m\u001b[38;5;124mignore\u001b[39m\u001b[38;5;124m\"\u001b[39m \u001b[38;5;28;01mif\u001b[39;00m \u001b[38;5;28misinstance\u001b[39m(obj\u001b[38;5;241m.\u001b[39mdtype, CategoricalDtype) \u001b[38;5;28;01melse\u001b[39;00m \u001b[38;5;28;01mNone\u001b[39;00m\n\u001b[1;32m-> 1507\u001b[0m mapped \u001b[38;5;241m=\u001b[39m obj\u001b[38;5;241m.\u001b[39m_map_values(\n\u001b[0;32m   1508\u001b[0m     mapper\u001b[38;5;241m=\u001b[39mcurried, na_action\u001b[38;5;241m=\u001b[39maction, convert\u001b[38;5;241m=\u001b[39m\u001b[38;5;28mself\u001b[39m\u001b[38;5;241m.\u001b[39mconvert_dtype\n\u001b[0;32m   1509\u001b[0m )\n\u001b[0;32m   1511\u001b[0m \u001b[38;5;28;01mif\u001b[39;00m \u001b[38;5;28mlen\u001b[39m(mapped) \u001b[38;5;129;01mand\u001b[39;00m \u001b[38;5;28misinstance\u001b[39m(mapped[\u001b[38;5;241m0\u001b[39m], ABCSeries):\n\u001b[0;32m   1512\u001b[0m     \u001b[38;5;66;03m# GH#43986 Need to do list(mapped) in order to get treated as nested\u001b[39;00m\n\u001b[0;32m   1513\u001b[0m     \u001b[38;5;66;03m#  See also GH#25959 regarding EA support\u001b[39;00m\n\u001b[0;32m   1514\u001b[0m     \u001b[38;5;28;01mreturn\u001b[39;00m obj\u001b[38;5;241m.\u001b[39m_constructor_expanddim(\u001b[38;5;28mlist\u001b[39m(mapped), index\u001b[38;5;241m=\u001b[39mobj\u001b[38;5;241m.\u001b[39mindex)\n",
      "File \u001b[1;32md:\\anaconda3\\Lib\\site-packages\\pandas\\core\\base.py:921\u001b[0m, in \u001b[0;36mIndexOpsMixin._map_values\u001b[1;34m(self, mapper, na_action, convert)\u001b[0m\n\u001b[0;32m    918\u001b[0m \u001b[38;5;28;01mif\u001b[39;00m \u001b[38;5;28misinstance\u001b[39m(arr, ExtensionArray):\n\u001b[0;32m    919\u001b[0m     \u001b[38;5;28;01mreturn\u001b[39;00m arr\u001b[38;5;241m.\u001b[39mmap(mapper, na_action\u001b[38;5;241m=\u001b[39mna_action)\n\u001b[1;32m--> 921\u001b[0m \u001b[38;5;28;01mreturn\u001b[39;00m algorithms\u001b[38;5;241m.\u001b[39mmap_array(arr, mapper, na_action\u001b[38;5;241m=\u001b[39mna_action, convert\u001b[38;5;241m=\u001b[39mconvert)\n",
      "File \u001b[1;32md:\\anaconda3\\Lib\\site-packages\\pandas\\core\\algorithms.py:1743\u001b[0m, in \u001b[0;36mmap_array\u001b[1;34m(arr, mapper, na_action, convert)\u001b[0m\n\u001b[0;32m   1741\u001b[0m values \u001b[38;5;241m=\u001b[39m arr\u001b[38;5;241m.\u001b[39mastype(\u001b[38;5;28mobject\u001b[39m, copy\u001b[38;5;241m=\u001b[39m\u001b[38;5;28;01mFalse\u001b[39;00m)\n\u001b[0;32m   1742\u001b[0m \u001b[38;5;28;01mif\u001b[39;00m na_action \u001b[38;5;129;01mis\u001b[39;00m \u001b[38;5;28;01mNone\u001b[39;00m:\n\u001b[1;32m-> 1743\u001b[0m     \u001b[38;5;28;01mreturn\u001b[39;00m lib\u001b[38;5;241m.\u001b[39mmap_infer(values, mapper, convert\u001b[38;5;241m=\u001b[39mconvert)\n\u001b[0;32m   1744\u001b[0m \u001b[38;5;28;01melse\u001b[39;00m:\n\u001b[0;32m   1745\u001b[0m     \u001b[38;5;28;01mreturn\u001b[39;00m lib\u001b[38;5;241m.\u001b[39mmap_infer_mask(\n\u001b[0;32m   1746\u001b[0m         values, mapper, mask\u001b[38;5;241m=\u001b[39misna(values)\u001b[38;5;241m.\u001b[39mview(np\u001b[38;5;241m.\u001b[39muint8), convert\u001b[38;5;241m=\u001b[39mconvert\n\u001b[0;32m   1747\u001b[0m     )\n",
      "File \u001b[1;32mlib.pyx:2972\u001b[0m, in \u001b[0;36mpandas._libs.lib.map_infer\u001b[1;34m()\u001b[0m\n",
      "Cell \u001b[1;32mIn[91], line 2\u001b[0m, in \u001b[0;36mconvert_size_to_mb\u001b[1;34m(size)\u001b[0m\n\u001b[0;32m      1\u001b[0m \u001b[38;5;28;01mdef\u001b[39;00m \u001b[38;5;21mconvert_size_to_mb\u001b[39m(size):\n\u001b[1;32m----> 2\u001b[0m     \u001b[38;5;28;01mif\u001b[39;00m size\u001b[38;5;241m.\u001b[39mendswith(\u001b[38;5;124m'\u001b[39m\u001b[38;5;124mM\u001b[39m\u001b[38;5;124m'\u001b[39m):\n\u001b[0;32m      3\u001b[0m         \u001b[38;5;28;01mreturn\u001b[39;00m \u001b[38;5;28mfloat\u001b[39m(size[:\u001b[38;5;241m-\u001b[39m\u001b[38;5;241m1\u001b[39m])  \u001b[38;5;66;03m# Remove 'M' and convert to float\u001b[39;00m\n\u001b[0;32m      4\u001b[0m     \u001b[38;5;28;01melif\u001b[39;00m size\u001b[38;5;241m.\u001b[39mendswith(\u001b[38;5;124m'\u001b[39m\u001b[38;5;124mk\u001b[39m\u001b[38;5;124m'\u001b[39m):\n",
      "\u001b[1;31mAttributeError\u001b[0m: 'float' object has no attribute 'endswith'"
     ]
    }
   ],
   "source": [
    "# Create function to convert size to Mb \n",
    "def convert_size_to_mb(size):\n",
    "    if size.endswith('M'):\n",
    "        return float(size[:-1])  # Remove 'M' and convert to float\n",
    "    elif size.endswith('k'):\n",
    "        return float(size[:-1]) / 1024  # Remove 'k' and divide by 1024\n",
    "    else:\n",
    "        return float(size)  # Convert directly if no suffix\n",
    "\n",
    "# Apply the conversion function to the 'Size' column\n",
    "googleplaystore['Size'] = googleplaystore['Size'].apply(convert_size_to_mb)"
   ]
  },
  {
   "cell_type": "code",
   "execution_count": 95,
   "id": "719ae1e9-17dc-43df-adeb-5297d5b31432",
   "metadata": {},
   "outputs": [
    {
     "name": "stderr",
     "output_type": "stream",
     "text": [
      "C:\\Users\\zilmi.nugroho\\AppData\\Local\\Temp\\ipykernel_27672\\4188827458.py:2: SettingWithCopyWarning: \n",
      "A value is trying to be set on a copy of a slice from a DataFrame\n",
      "\n",
      "See the caveats in the documentation: https://pandas.pydata.org/pandas-docs/stable/user_guide/indexing.html#returning-a-view-versus-a-copy\n",
      "  googleplaystore.rename(columns={'Size': 'Size(Mb)'}, inplace=True)\n"
     ]
    },
    {
     "data": {
      "image/png": "[encoded data removed]",
      "text/plain": [
       "<Figure size 600x500 with 1 Axes>"
      ]
     },
     "metadata": {},
     "output_type": "display_data"
    }
   ],
   "source": [
    "#convert column name\n",
    "googleplaystore.rename(columns={'Size': 'Size(Mb)'}, inplace=True)\n",
    "\n",
    "# plot size vs ratings\n",
    "plt.figure(figsize = (6,5))\n",
    "sns.scatterplot(x= 'Size(Mb)', y= 'Rating', data= googleplaystore[googleplaystore['Type']=='Paid'])\n",
    "\n",
    "plt.xlabel('Size (Mb)')\n",
    "plt.ylabel('Rating')\n",
    "plt.title('Size vs Ratings')\n",
    "\n",
    "plt.show()"
   ]
  },
  {
   "cell_type": "code",
   "execution_count": 97,
   "id": "c9095fe8-52dc-4952-94f9-aa31e777d559",
   "metadata": {},
   "outputs": [
    {
     "name": "stdout",
     "output_type": "stream",
     "text": [
      "Kendall Correlation: 0.03348403772541333\n",
      "Spearman Correlation: 0.04956511922859857\n"
     ]
    }
   ],
   "source": [
    "# Calculate Kendall and Spearman correlation\n",
    "kendall_corr = googleplaystore[['Size(Mb)', 'Rating']].corr(method='kendall').iloc[0, 1]\n",
    "spearman_corr = googleplaystore[['Size(Mb)', 'Rating']].corr(method='spearman').iloc[0, 1]\n",
    "\n",
    "print(f\"Kendall Correlation: {kendall_corr}\")\n",
    "print(f\"Spearman Correlation: {spearman_corr}\")"
   ]
  },
  {
   "cell_type": "markdown",
   "id": "04eeefa4-9968-4830-a0f2-533376f46c14",
   "metadata": {},
   "source": [
    "### Question 3"
   ]
  },
  {
   "cell_type": "markdown",
   "id": "90e834d4-057c-47ef-9a2e-507ea2fee9f8",
   "metadata": {},
   "source": [
    "1.\tGame\n",
    "2.\tFamily\n",
    "3.\tTools"
   ]
  },
  {
   "cell_type": "markdown",
   "id": "87cae6d0-900a-4326-9014-236d06cbe805",
   "metadata": {},
   "source": [
    "#### Game Category"
   ]
  },
  {
   "cell_type": "code",
   "execution_count": 99,
   "id": "2413333c-09ff-47dd-b7dd-9a109e779288",
   "metadata": {},
   "outputs": [
    {
     "data": {
      "text/plain": [
       "<Axes: xlabel='Price', ylabel='Count'>"
      ]
     },
     "execution_count": 99,
     "metadata": {},
     "output_type": "execute_result"
    },
    {
     "data": {
      "image/png": "[encoded data removed]",
      "text/plain": [
       "<Figure size 640x480 with 1 Axes>"
      ]
     },
     "metadata": {},
     "output_type": "display_data"
    }
   ],
   "source": [
    "#histogram plot dari price pada games apps & paid apps\n",
    "games_app= googleplaystore[googleplaystore['Category']=='GAME']\n",
    "sns.histplot(games_app['Price'].loc[games_app['Type'] == 'Paid'], bins= 100, kde= True)"
   ]
  },
  {
   "cell_type": "code",
   "execution_count": 101,
   "id": "50f1e161-afb2-42b6-aa83-55c29e30f6c1",
   "metadata": {},
   "outputs": [
    {
     "data": {
      "image/png": "[encoded data removed]",
      "text/plain": [
       "<Figure size 600x500 with 1 Axes>"
      ]
     },
     "metadata": {},
     "output_type": "display_data"
    }
   ],
   "source": [
    "# plot price vs ratings of games app\n",
    "plt.figure(figsize = (6,5))\n",
    "sns.scatterplot(x= 'Price', y= 'Rating', data= games_app[games_app['Type']=='Paid'])\n",
    "\n",
    "plt.xlabel('Price')\n",
    "plt.ylabel('Rating')\n",
    "plt.title('Price vs Ratings (Games App)')\n",
    "\n",
    "plt.show()"
   ]
  },
  {
   "cell_type": "code",
   "execution_count": 125,
   "id": "b140d08d-f2a5-4a82-a190-fe8945aa2166",
   "metadata": {},
   "outputs": [
    {
     "name": "stdout",
     "output_type": "stream",
     "text": [
      "Minimum Price of Games App: $0.99\n",
      "Maximum Price of Games App: $17.99\n",
      "Average Price of Games App: $3.67\n",
      "Median Price of Games App: $2.99\n",
      "Q1 Price of Games App: $0.99\n",
      "Q3 Price of Games App: $4.99\n"
     ]
    }
   ],
   "source": [
    "paid_games_app= games_app[games_app['Type']=='Paid']\n",
    "\n",
    "game_min_price = paid_games_app['Price'].min()\n",
    "game_max_price = paid_games_app['Price'].max()\n",
    "game_mean_price = paid_games_app['Price'].mean()\n",
    "game_median_price = paid_games_app['Price'].median()\n",
    "game_Q1 = paid_games_app['Price'].quantile(0.25)\n",
    "game_Q3 = paid_games_app['Price'].quantile(0.75)\n",
    "\n",
    "# Output the results\n",
    "print(f\"Minimum Price of Games App: ${game_min_price:.2f}\")\n",
    "print(f\"Maximum Price of Games App: ${game_max_price:.2f}\")\n",
    "print(f\"Average Price of Games App: ${game_mean_price:.2f}\")\n",
    "print(f\"Median Price of Games App: ${game_median_price:.2f}\")\n",
    "print(f\"Q1 Price of Games App: ${game_Q1:.2f}\")\n",
    "print(f\"Q3 Price of Games App: ${game_Q3:.2f}\")"
   ]
  },
  {
   "cell_type": "markdown",
   "id": "ed9d19f4-44e7-4b80-a2c1-4d3a98b83dee",
   "metadata": {},
   "source": [
    "#### Family Category"
   ]
  },
  {
   "cell_type": "code",
   "execution_count": 105,
   "id": "8d92a820-9d9f-4d32-8de1-939647bab8e2",
   "metadata": {},
   "outputs": [
    {
     "data": {
      "text/plain": [
       "<Axes: xlabel='Price', ylabel='Count'>"
      ]
     },
     "execution_count": 105,
     "metadata": {},
     "output_type": "execute_result"
    },
    {
     "data": {
      "image/png": "[encoded data removed]",
      "text/plain": [
       "<Figure size 640x480 with 1 Axes>"
      ]
     },
     "metadata": {},
     "output_type": "display_data"
    }
   ],
   "source": [
    "#histogram plot dari price pada games apps & paid apps\n",
    "fam_app= googleplaystore[googleplaystore['Category']=='FAMILY']\n",
    "sns.histplot(fam_app['Price'].loc[fam_app['Type'] == 'Paid'], bins= 100, kde= True)"
   ]
  },
  {
   "cell_type": "code",
   "execution_count": 107,
   "id": "2368a9cb-7440-41b8-ac98-28db3199f19e",
   "metadata": {},
   "outputs": [
    {
     "data": {
      "text/html": [
       "<div>\n",
       "<style scoped>\n",
       "    .dataframe tbody tr th:only-of-type {\n",
       "        vertical-align: middle;\n",
       "    }\n",
       "\n",
       "    .dataframe tbody tr th {\n",
       "        vertical-align: top;\n",
       "    }\n",
       "\n",
       "    .dataframe thead th {\n",
       "        text-align: right;\n",
       "    }\n",
       "</style>\n",
       "<table border=\"1\" class=\"dataframe\">\n",
       "  <thead>\n",
       "    <tr style=\"text-align: right;\">\n",
       "      <th></th>\n",
       "      <th>ID</th>\n",
       "      <th>App</th>\n",
       "      <th>Category</th>\n",
       "      <th>Rating</th>\n",
       "      <th>Reviews</th>\n",
       "      <th>Size(Mb)</th>\n",
       "      <th>Installs_plus</th>\n",
       "      <th>Type</th>\n",
       "      <th>Price</th>\n",
       "      <th>Content Rating</th>\n",
       "      <th>Genres</th>\n",
       "      <th>Last Updated</th>\n",
       "      <th>Current Ver</th>\n",
       "      <th>Android Ver</th>\n",
       "    </tr>\n",
       "  </thead>\n",
       "  <tbody>\n",
       "    <tr>\n",
       "      <th>2911</th>\n",
       "      <td>4197</td>\n",
       "      <td>most expensive app (H)</td>\n",
       "      <td>FAMILY</td>\n",
       "      <td>4.3</td>\n",
       "      <td>6</td>\n",
       "      <td>1.5</td>\n",
       "      <td>100</td>\n",
       "      <td>Paid</td>\n",
       "      <td>399.99</td>\n",
       "      <td>Everyone</td>\n",
       "      <td>Entertainment</td>\n",
       "      <td>16-Jul-18</td>\n",
       "      <td>1</td>\n",
       "      <td>7.0 and up</td>\n",
       "    </tr>\n",
       "    <tr>\n",
       "      <th>3795</th>\n",
       "      <td>5354</td>\n",
       "      <td>I am Rich Plus</td>\n",
       "      <td>FAMILY</td>\n",
       "      <td>4.0</td>\n",
       "      <td>856</td>\n",
       "      <td>8.7</td>\n",
       "      <td>10000</td>\n",
       "      <td>Paid</td>\n",
       "      <td>399.99</td>\n",
       "      <td>Everyone</td>\n",
       "      <td>Entertainment</td>\n",
       "      <td>19-May-18</td>\n",
       "      <td>3</td>\n",
       "      <td>4.4 and up</td>\n",
       "    </tr>\n",
       "    <tr>\n",
       "      <th>3803</th>\n",
       "      <td>5362</td>\n",
       "      <td>I Am Rich Pro</td>\n",
       "      <td>FAMILY</td>\n",
       "      <td>4.4</td>\n",
       "      <td>201</td>\n",
       "      <td>2.7</td>\n",
       "      <td>5000</td>\n",
       "      <td>Paid</td>\n",
       "      <td>399.99</td>\n",
       "      <td>Everyone</td>\n",
       "      <td>Entertainment</td>\n",
       "      <td>30-May-17</td>\n",
       "      <td>1.54</td>\n",
       "      <td>1.6 and up</td>\n",
       "    </tr>\n",
       "    <tr>\n",
       "      <th>3807</th>\n",
       "      <td>5366</td>\n",
       "      <td>I Am Rich</td>\n",
       "      <td>FAMILY</td>\n",
       "      <td>3.6</td>\n",
       "      <td>217</td>\n",
       "      <td>4.9</td>\n",
       "      <td>10000</td>\n",
       "      <td>Paid</td>\n",
       "      <td>389.99</td>\n",
       "      <td>Everyone</td>\n",
       "      <td>Entertainment</td>\n",
       "      <td>22-Jun-18</td>\n",
       "      <td>1.5</td>\n",
       "      <td>4.2 and up</td>\n",
       "    </tr>\n",
       "  </tbody>\n",
       "</table>\n",
       "</div>"
      ],
      "text/plain": [
       "        ID                     App Category  Rating  Reviews  Size(Mb)  \\\n",
       "2911  4197  most expensive app (H)   FAMILY     4.3        6       1.5   \n",
       "3795  5354          I am Rich Plus   FAMILY     4.0      856       8.7   \n",
       "3803  5362           I Am Rich Pro   FAMILY     4.4      201       2.7   \n",
       "3807  5366               I Am Rich   FAMILY     3.6      217       4.9   \n",
       "\n",
       "      Installs_plus  Type   Price Content Rating         Genres Last Updated  \\\n",
       "2911            100  Paid  399.99       Everyone  Entertainment    16-Jul-18   \n",
       "3795          10000  Paid  399.99       Everyone  Entertainment    19-May-18   \n",
       "3803           5000  Paid  399.99       Everyone  Entertainment    30-May-17   \n",
       "3807          10000  Paid  389.99       Everyone  Entertainment    22-Jun-18   \n",
       "\n",
       "     Current Ver Android Ver  \n",
       "2911           1  7.0 and up  \n",
       "3795           3  4.4 and up  \n",
       "3803        1.54  1.6 and up  \n",
       "3807         1.5  4.2 and up  "
      ]
     },
     "execution_count": 107,
     "metadata": {},
     "output_type": "execute_result"
    }
   ],
   "source": [
    "fam_app[fam_app['Price']>300]"
   ]
  },
  {
   "cell_type": "code",
   "execution_count": 109,
   "id": "af5592c7-559c-44c5-942b-74851a1ecda6",
   "metadata": {},
   "outputs": [
    {
     "name": "stderr",
     "output_type": "stream",
     "text": [
      "C:\\Users\\zilmi.nugroho\\AppData\\Local\\Temp\\ipykernel_27672\\2872736276.py:2: SettingWithCopyWarning: \n",
      "A value is trying to be set on a copy of a slice from a DataFrame\n",
      "\n",
      "See the caveats in the documentation: https://pandas.pydata.org/pandas-docs/stable/user_guide/indexing.html#returning-a-view-versus-a-copy\n",
      "  fam_app.drop([2911,3795,3803,3807], inplace=True)\n"
     ]
    }
   ],
   "source": [
    "# Drop the rows by index\n",
    "fam_app.drop([2911,3795,3803,3807], inplace=True)"
   ]
  },
  {
   "cell_type": "code",
   "execution_count": 111,
   "id": "0a82e642-a9ca-480a-a3a5-dd1198b565bd",
   "metadata": {},
   "outputs": [
    {
     "data": {
      "image/png": "[encoded data removed]",
      "text/plain": [
       "<Figure size 600x500 with 1 Axes>"
      ]
     },
     "metadata": {},
     "output_type": "display_data"
    }
   ],
   "source": [
    "# plot price vs ratings of games app\n",
    "plt.figure(figsize = (6,5))\n",
    "sns.scatterplot(x= 'Price', y= 'Rating', data= fam_app[fam_app['Type']=='Paid'])\n",
    "\n",
    "plt.xlabel('Price')\n",
    "plt.ylabel('Rating')\n",
    "plt.title('Price vs Ratings (Fam App)')\n",
    "\n",
    "plt.show()"
   ]
  },
  {
   "cell_type": "code",
   "execution_count": 113,
   "id": "d51347f2-34c8-4699-b4c1-a7a9eed6081a",
   "metadata": {},
   "outputs": [
    {
     "name": "stdout",
     "output_type": "stream",
     "text": [
      "Minimum Price of Family App: $0.99\n",
      "Maximum Price of Family App: $29.99\n",
      "Average Price of Family App: $4.52\n",
      "Median Price of Family App: $2.99\n",
      "Q1 Price of Family App: $1.99\n",
      "Q3 Price of Family App: $4.99\n"
     ]
    }
   ],
   "source": [
    "paid_fam_app= fam_app[fam_app['Type']=='Paid']\n",
    "\n",
    "family_min_price = paid_fam_app['Price'].min()\n",
    "family_max_price = paid_fam_app['Price'].max()\n",
    "family_mean_price = paid_fam_app['Price'].mean()\n",
    "family_median_price = paid_fam_app['Price'].median()\n",
    "fam_Q1 = paid_fam_app['Price'].quantile(0.25)\n",
    "fam_Q3 = paid_fam_app['Price'].quantile(0.75)\n",
    "\n",
    "# Output the results\n",
    "print(f\"Minimum Price of Family App: ${family_min_price:.2f}\")\n",
    "print(f\"Maximum Price of Family App: ${family_max_price:.2f}\")\n",
    "print(f\"Average Price of Family App: ${family_mean_price:.2f}\")\n",
    "print(f\"Median Price of Family App: ${family_median_price:.2f}\")\n",
    "print(f\"Q1 Price of Family App: ${fam_Q1:.2f}\")\n",
    "print(f\"Q3 Price of Family App: ${fam_Q3:.2f}\")"
   ]
  },
  {
   "cell_type": "markdown",
   "id": "27908704-61c3-4483-89a4-360a18388bd9",
   "metadata": {},
   "source": [
    "#### Tools Category"
   ]
  },
  {
   "cell_type": "code",
   "execution_count": 117,
   "id": "d0d342a6-2f96-497e-bcec-01cb458a389a",
   "metadata": {},
   "outputs": [
    {
     "data": {
      "text/plain": [
       "<Axes: xlabel='Price', ylabel='Count'>"
      ]
     },
     "execution_count": 117,
     "metadata": {},
     "output_type": "execute_result"
    },
    {
     "data": {
      "image/png": "[encoded data removed]",
      "text/plain": [
       "<Figure size 640x480 with 1 Axes>"
      ]
     },
     "metadata": {},
     "output_type": "display_data"
    }
   ],
   "source": [
    "#histogram plot dari price pada games apps & paid apps\n",
    "tools_app= googleplaystore[googleplaystore['Category']=='TOOLS']\n",
    "sns.histplot(tools_app['Price'].loc[tools_app['Type'] == 'Paid'], bins= 100, kde= True)"
   ]
  },
  {
   "cell_type": "code",
   "execution_count": 121,
   "id": "9f2270ed-bd79-49ae-aca6-84c235137d0d",
   "metadata": {},
   "outputs": [
    {
     "data": {
      "image/png": "[encoded data removed]",
      "text/plain": [
       "<Figure size 600x500 with 1 Axes>"
      ]
     },
     "metadata": {},
     "output_type": "display_data"
    }
   ],
   "source": [
    "# plot price vs ratings of tools app\n",
    "plt.figure(figsize = (6,5))\n",
    "sns.scatterplot(x= 'Price', y= 'Rating', data= tools_app[tools_app['Type']=='Paid'])\n",
    "\n",
    "plt.xlabel('Price')\n",
    "plt.ylabel('Rating')\n",
    "plt.title('Price vs Ratings (Tools App)')\n",
    "\n",
    "plt.show()"
   ]
  },
  {
   "cell_type": "code",
   "execution_count": 300,
   "id": "0c84b35a-33a1-474f-9311-2e96be9641ea",
   "metadata": {},
   "outputs": [
    {
     "name": "stdout",
     "output_type": "stream",
     "text": [
      "Minimum Price of Tools App: $0.99\n",
      "Maximum Price of Tools App: $14.99\n",
      "Average Price of Tools App: $3.34\n",
      "Median Price of Tools App: $2.99\n",
      "Q1 Price of Tools App: $1.49\n",
      "Q3 Price of Tools App: $4.74\n"
     ]
    }
   ],
   "source": [
    "paid_tools_app= tools_app[tools_app['Type']=='Paid']\n",
    "\n",
    "tools_min_price = paid_tools_app['Price'].min()\n",
    "tools_max_price = paid_tools_app['Price'].max()\n",
    "tools_mean_price = paid_tools_app['Price'].mean()\n",
    "tools_median_price = paid_tools_app['Price'].median()\n",
    "tools_Q1 = paid_tools_app['Price'].quantile(0.25)\n",
    "tools_Q3 = paid_tools_app['Price'].quantile(0.75)\n",
    "\n",
    "# Output the results\n",
    "print(f\"Minimum Price of Tools App: ${tools_min_price:.2f}\")\n",
    "print(f\"Maximum Price of Tools App: ${tools_max_price:.2f}\")\n",
    "print(f\"Average Price of Tools App: ${tools_mean_price:.2f}\")\n",
    "print(f\"Median Price of Tools App: ${tools_median_price:.2f}\")\n",
    "print(f\"Q1 Price of Tools App: ${tools_Q1:.2f}\")\n",
    "print(f\"Q3 Price of Tools App: ${tools_Q3:.2f}\")"
   ]
  },
  {
   "cell_type": "markdown",
   "id": "9f9f0039-8211-4299-a867-0e44ea391046",
   "metadata": {},
   "source": [
    "### Question 4"
   ]
  },
  {
   "cell_type": "code",
   "execution_count": 127,
   "id": "a812d4a2-9bd7-44dd-8d6d-3ddab4cb1dbf",
   "metadata": {},
   "outputs": [
    {
     "data": {
      "text/html": [
       "<div>\n",
       "<style scoped>\n",
       "    .dataframe tbody tr th:only-of-type {\n",
       "        vertical-align: middle;\n",
       "    }\n",
       "\n",
       "    .dataframe tbody tr th {\n",
       "        vertical-align: top;\n",
       "    }\n",
       "\n",
       "    .dataframe thead th {\n",
       "        text-align: right;\n",
       "    }\n",
       "</style>\n",
       "<table border=\"1\" class=\"dataframe\">\n",
       "  <thead>\n",
       "    <tr style=\"text-align: right;\">\n",
       "      <th></th>\n",
       "      <th>ID</th>\n",
       "      <th>App</th>\n",
       "      <th>Category</th>\n",
       "      <th>Rating</th>\n",
       "      <th>Reviews</th>\n",
       "      <th>Size(Mb)</th>\n",
       "      <th>Installs_plus</th>\n",
       "      <th>Type</th>\n",
       "      <th>Price</th>\n",
       "      <th>Content Rating</th>\n",
       "      <th>Genres</th>\n",
       "      <th>Last Updated</th>\n",
       "      <th>Current Ver</th>\n",
       "      <th>Android Ver</th>\n",
       "    </tr>\n",
       "  </thead>\n",
       "  <tbody>\n",
       "    <tr>\n",
       "      <th>1278</th>\n",
       "      <td>1831</td>\n",
       "      <td>The Game of Life</td>\n",
       "      <td>GAME</td>\n",
       "      <td>4.4</td>\n",
       "      <td>18621</td>\n",
       "      <td>63.0</td>\n",
       "      <td>100000</td>\n",
       "      <td>Paid</td>\n",
       "      <td>2.99</td>\n",
       "      <td>Everyone</td>\n",
       "      <td>Board</td>\n",
       "      <td>4-Jul-18</td>\n",
       "      <td>2.1.2</td>\n",
       "      <td>4.4 and up</td>\n",
       "    </tr>\n",
       "    <tr>\n",
       "      <th>1279</th>\n",
       "      <td>1832</td>\n",
       "      <td>Clue</td>\n",
       "      <td>GAME</td>\n",
       "      <td>4.6</td>\n",
       "      <td>19922</td>\n",
       "      <td>35.0</td>\n",
       "      <td>100000</td>\n",
       "      <td>Paid</td>\n",
       "      <td>1.99</td>\n",
       "      <td>Everyone 10+</td>\n",
       "      <td>Board</td>\n",
       "      <td>30-Jul-18</td>\n",
       "      <td>2.2.5</td>\n",
       "      <td>5.0 and up</td>\n",
       "    </tr>\n",
       "    <tr>\n",
       "      <th>1280</th>\n",
       "      <td>1833</td>\n",
       "      <td>The Room: Old Sins</td>\n",
       "      <td>GAME</td>\n",
       "      <td>4.9</td>\n",
       "      <td>21119</td>\n",
       "      <td>48.0</td>\n",
       "      <td>100000</td>\n",
       "      <td>Paid</td>\n",
       "      <td>4.99</td>\n",
       "      <td>Everyone</td>\n",
       "      <td>Puzzle</td>\n",
       "      <td>18-Apr-18</td>\n",
       "      <td>1.0.1</td>\n",
       "      <td>4.4 and up</td>\n",
       "    </tr>\n",
       "    <tr>\n",
       "      <th>1281</th>\n",
       "      <td>1834</td>\n",
       "      <td>The Escapists</td>\n",
       "      <td>GAME</td>\n",
       "      <td>4.4</td>\n",
       "      <td>7412</td>\n",
       "      <td>84.0</td>\n",
       "      <td>100000</td>\n",
       "      <td>Paid</td>\n",
       "      <td>4.99</td>\n",
       "      <td>Teen</td>\n",
       "      <td>Strategy</td>\n",
       "      <td>26-Apr-18</td>\n",
       "      <td>1.1.0</td>\n",
       "      <td>2.3 and up</td>\n",
       "    </tr>\n",
       "    <tr>\n",
       "      <th>1282</th>\n",
       "      <td>1835</td>\n",
       "      <td>Farming Simulator 18</td>\n",
       "      <td>GAME</td>\n",
       "      <td>4.5</td>\n",
       "      <td>18125</td>\n",
       "      <td>15.0</td>\n",
       "      <td>100000</td>\n",
       "      <td>Paid</td>\n",
       "      <td>4.99</td>\n",
       "      <td>Everyone</td>\n",
       "      <td>Simulation;Education</td>\n",
       "      <td>9-Jul-18</td>\n",
       "      <td>Varies with device</td>\n",
       "      <td>4.4 and up</td>\n",
       "    </tr>\n",
       "  </tbody>\n",
       "</table>\n",
       "</div>"
      ],
      "text/plain": [
       "        ID                   App Category  Rating  Reviews  Size(Mb)  \\\n",
       "1278  1831      The Game of Life     GAME     4.4    18621      63.0   \n",
       "1279  1832                  Clue     GAME     4.6    19922      35.0   \n",
       "1280  1833    The Room: Old Sins     GAME     4.9    21119      48.0   \n",
       "1281  1834         The Escapists     GAME     4.4     7412      84.0   \n",
       "1282  1835  Farming Simulator 18     GAME     4.5    18125      15.0   \n",
       "\n",
       "      Installs_plus  Type  Price Content Rating                Genres  \\\n",
       "1278         100000  Paid   2.99       Everyone                 Board   \n",
       "1279         100000  Paid   1.99   Everyone 10+                 Board   \n",
       "1280         100000  Paid   4.99       Everyone                Puzzle   \n",
       "1281         100000  Paid   4.99           Teen              Strategy   \n",
       "1282         100000  Paid   4.99       Everyone  Simulation;Education   \n",
       "\n",
       "     Last Updated         Current Ver Android Ver  \n",
       "1278     4-Jul-18               2.1.2  4.4 and up  \n",
       "1279    30-Jul-18               2.2.5  5.0 and up  \n",
       "1280    18-Apr-18               1.0.1  4.4 and up  \n",
       "1281    26-Apr-18               1.1.0  2.3 and up  \n",
       "1282     9-Jul-18  Varies with device  4.4 and up  "
      ]
     },
     "execution_count": 127,
     "metadata": {},
     "output_type": "execute_result"
    }
   ],
   "source": [
    "#Games app, type= paid, rating= 4-5\n",
    "games_app_high_rating= paid_games_app[paid_games_app['Rating']>=4]\n",
    "games_app_high_rating.head(5)"
   ]
  },
  {
   "cell_type": "code",
   "execution_count": 340,
   "id": "882a4cde-4e99-4870-9f3f-fa1d4bdf6e8c",
   "metadata": {},
   "outputs": [
    {
     "data": {
      "image/png": "[encoded data removed]",
      "text/plain": [
       "<Figure size 1000x400 with 2 Axes>"
      ]
     },
     "metadata": {},
     "output_type": "display_data"
    }
   ],
   "source": [
    "# Create a figure with two subplots\n",
    "fig, axes = plt.subplots(nrows=1, ncols=2, figsize=(10, 4))\n",
    "\n",
    "# Plot histogram for Price\n",
    "sns.histplot(games_app_high_rating['Price'], bins=100, kde=True, ax=axes[0])\n",
    "axes[0].set_title('Distribution of Price')\n",
    "axes[0].set_xlabel('Price')\n",
    "axes[0].set_ylabel('Frequency')\n",
    "\n",
    "# Plot histogram for Size\n",
    "sns.histplot(games_app_high_rating['Size(Mb)'], bins=100, kde=True, ax=axes[1])\n",
    "axes[1].set_title('Distribution of Size')\n",
    "axes[1].set_xlabel('Size (Mb)')\n",
    "axes[1].set_ylabel('Frequency')\n",
    "\n",
    "# Adjust layout\n",
    "plt.tight_layout()\n",
    "plt.show()\n"
   ]
  },
  {
   "cell_type": "code",
   "execution_count": 346,
   "id": "945370d4-b4c0-454f-8472-e66aa5012f96",
   "metadata": {},
   "outputs": [
    {
     "data": {
      "text/html": [
       "<div>\n",
       "<style scoped>\n",
       "    .dataframe tbody tr th:only-of-type {\n",
       "        vertical-align: middle;\n",
       "    }\n",
       "\n",
       "    .dataframe tbody tr th {\n",
       "        vertical-align: top;\n",
       "    }\n",
       "\n",
       "    .dataframe thead th {\n",
       "        text-align: right;\n",
       "    }\n",
       "</style>\n",
       "<table border=\"1\" class=\"dataframe\">\n",
       "  <thead>\n",
       "    <tr style=\"text-align: right;\">\n",
       "      <th></th>\n",
       "      <th>Size(Mb)</th>\n",
       "      <th>Price</th>\n",
       "    </tr>\n",
       "  </thead>\n",
       "  <tbody>\n",
       "    <tr>\n",
       "      <th>count</th>\n",
       "      <td>64.000000</td>\n",
       "      <td>64.000000</td>\n",
       "    </tr>\n",
       "    <tr>\n",
       "      <th>mean</th>\n",
       "      <td>34.228125</td>\n",
       "      <td>3.656094</td>\n",
       "    </tr>\n",
       "    <tr>\n",
       "      <th>std</th>\n",
       "      <td>27.491993</td>\n",
       "      <td>3.103324</td>\n",
       "    </tr>\n",
       "    <tr>\n",
       "      <th>min</th>\n",
       "      <td>1.300000</td>\n",
       "      <td>0.990000</td>\n",
       "    </tr>\n",
       "    <tr>\n",
       "      <th>25%</th>\n",
       "      <td>13.750000</td>\n",
       "      <td>0.990000</td>\n",
       "    </tr>\n",
       "    <tr>\n",
       "      <th>50%</th>\n",
       "      <td>29.000000</td>\n",
       "      <td>2.990000</td>\n",
       "    </tr>\n",
       "    <tr>\n",
       "      <th>75%</th>\n",
       "      <td>45.250000</td>\n",
       "      <td>4.990000</td>\n",
       "    </tr>\n",
       "    <tr>\n",
       "      <th>max</th>\n",
       "      <td>100.000000</td>\n",
       "      <td>17.990000</td>\n",
       "    </tr>\n",
       "  </tbody>\n",
       "</table>\n",
       "</div>"
      ],
      "text/plain": [
       "         Size(Mb)      Price\n",
       "count   64.000000  64.000000\n",
       "mean    34.228125   3.656094\n",
       "std     27.491993   3.103324\n",
       "min      1.300000   0.990000\n",
       "25%     13.750000   0.990000\n",
       "50%     29.000000   2.990000\n",
       "75%     45.250000   4.990000\n",
       "max    100.000000  17.990000"
      ]
     },
     "execution_count": 346,
     "metadata": {},
     "output_type": "execute_result"
    }
   ],
   "source": [
    "games_app_high_rating[['Size(Mb)','Price']].describe()"
   ]
  },
  {
   "cell_type": "markdown",
   "id": "5b075a06-5f7a-438f-9cde-bd74e93bbcf3",
   "metadata": {
    "jp-MarkdownHeadingCollapsed": true
   },
   "source": [
    "## Case 2"
   ]
  },
  {
   "cell_type": "code",
   "execution_count": 131,
   "id": "ada13efe-4c3a-4d22-99de-b0f986b238ad",
   "metadata": {},
   "outputs": [],
   "source": [
    "email_advertising = pd.read_csv(\"direct_email_advertising.csv\")"
   ]
  },
  {
   "cell_type": "code",
   "execution_count": 133,
   "id": "04cbb2b7-a207-455e-9eca-590100268a22",
   "metadata": {},
   "outputs": [
    {
     "data": {
      "text/html": [
       "<div>\n",
       "<style scoped>\n",
       "    .dataframe tbody tr th:only-of-type {\n",
       "        vertical-align: middle;\n",
       "    }\n",
       "\n",
       "    .dataframe tbody tr th {\n",
       "        vertical-align: top;\n",
       "    }\n",
       "\n",
       "    .dataframe thead th {\n",
       "        text-align: right;\n",
       "    }\n",
       "</style>\n",
       "<table border=\"1\" class=\"dataframe\">\n",
       "  <thead>\n",
       "    <tr style=\"text-align: right;\">\n",
       "      <th></th>\n",
       "      <th>email</th>\n",
       "      <th>order_date</th>\n",
       "      <th>order_value</th>\n",
       "    </tr>\n",
       "  </thead>\n",
       "  <tbody>\n",
       "    <tr>\n",
       "      <th>0</th>\n",
       "      <td>Joanne.Lesch98@gmail.com</td>\n",
       "      <td>09-02-2024</td>\n",
       "      <td>5.635641</td>\n",
       "    </tr>\n",
       "    <tr>\n",
       "      <th>1</th>\n",
       "      <td>Sylvia79@hotmail.com</td>\n",
       "      <td>12-02-2024</td>\n",
       "      <td>45.348933</td>\n",
       "    </tr>\n",
       "    <tr>\n",
       "      <th>2</th>\n",
       "      <td>Eddie_Cummings84@hotmail.com</td>\n",
       "      <td>09-03-2024</td>\n",
       "      <td>10.286325</td>\n",
       "    </tr>\n",
       "    <tr>\n",
       "      <th>3</th>\n",
       "      <td>Sarah_Muller68@gmail.com</td>\n",
       "      <td>19-03-2024</td>\n",
       "      <td>25.682935</td>\n",
       "    </tr>\n",
       "    <tr>\n",
       "      <th>4</th>\n",
       "      <td>Edmond35@yahoo.com</td>\n",
       "      <td>24-02-2024</td>\n",
       "      <td>0.494204</td>\n",
       "    </tr>\n",
       "  </tbody>\n",
       "</table>\n",
       "</div>"
      ],
      "text/plain": [
       "                          email  order_date  order_value\n",
       "0      Joanne.Lesch98@gmail.com  09-02-2024     5.635641\n",
       "1          Sylvia79@hotmail.com  12-02-2024    45.348933\n",
       "2  Eddie_Cummings84@hotmail.com  09-03-2024    10.286325\n",
       "3      Sarah_Muller68@gmail.com  19-03-2024    25.682935\n",
       "4            Edmond35@yahoo.com  24-02-2024     0.494204"
      ]
     },
     "execution_count": 133,
     "metadata": {},
     "output_type": "execute_result"
    }
   ],
   "source": [
    "email_advertising.head(5)"
   ]
  },
  {
   "cell_type": "code",
   "execution_count": 139,
   "id": "59a0c2a0-9a20-46d9-b392-fe090a002ad1",
   "metadata": {},
   "outputs": [
    {
     "data": {
      "text/plain": [
       "<matplotlib.lines.Line2D at 0x24c507663f0>"
      ]
     },
     "execution_count": 139,
     "metadata": {},
     "output_type": "execute_result"
    },
    {
     "data": {
      "image/png": "[encoded data removed]",
      "text/plain": [
       "<Figure size 800x400 with 1 Axes>"
      ]
     },
     "metadata": {},
     "output_type": "display_data"
    }
   ],
   "source": [
    "# histogram plot (order value)\n",
    "plt.figure(figsize= (8,4))\n",
    "sns.histplot(email_advertising['order_value'], bins= 50)\n",
    "\n",
    "#show mean in histogram plot and value label\n",
    "plt.axvline(email_advertising['order_value'].mean(), color= 'red')"
   ]
  },
  {
   "cell_type": "code",
   "execution_count": 137,
   "id": "6b241a1e-e068-46e1-8cb9-3ad212fc735c",
   "metadata": {},
   "outputs": [
    {
     "data": {
      "text/plain": [
       "count    225.000000\n",
       "mean      34.835462\n",
       "std       36.084464\n",
       "min        0.076132\n",
       "25%       10.922946\n",
       "50%       24.124408\n",
       "75%       45.655997\n",
       "max      243.277491\n",
       "Name: order_value, dtype: float64"
      ]
     },
     "execution_count": 137,
     "metadata": {},
     "output_type": "execute_result"
    }
   ],
   "source": [
    "email_advertising['order_value'].describe()"
   ]
  },
  {
   "cell_type": "markdown",
   "id": "b3056700-ae95-4ba8-8bca-0058da86bb08",
   "metadata": {},
   "source": [
    "If we use mean, the order value per user is 34.8 which is sufficient to cover the average costs per user (25). But we see the distribution of the order value, shows skewed distribution, hence we should have used median, instead of mean."
   ]
  },
  {
   "cell_type": "code",
   "execution_count": 16,
   "id": "926e3950-43ae-4a6b-ac14-71a532d57ce6",
   "metadata": {},
   "outputs": [
    {
     "data": {
      "text/plain": [
       "24.124407657116443"
      ]
     },
     "execution_count": 16,
     "metadata": {},
     "output_type": "execute_result"
    }
   ],
   "source": [
    "email_advertising['order_value'].median()"
   ]
  },
  {
   "cell_type": "markdown",
   "id": "51a87f7b-59a2-4171-a7e0-cecdf74ffb96",
   "metadata": {},
   "source": [
    "The value of median is 24.1,so compared to the average costs per user, it is not sufficient,\r\n",
    "or is it?, \r\n",
    "I think we also need to see the distribution of cost per user, to see whether the value 25 is representative or not Thus, the answer is NOT sufficient to suggest an action to the company\r\n"
   ]
  },
  {
   "cell_type": "markdown",
   "id": "55502de7-bce7-43eb-9a9e-b20078c4ef1f",
   "metadata": {},
   "source": [
    "### Question 2"
   ]
  },
  {
   "cell_type": "markdown",
   "id": "fbbdea64-b916-46ce-aae9-3c7758c54dfc",
   "metadata": {},
   "source": [
    "Null Hypothesis : \n",
    "The mean order value generated by the email list is less than or equal to the cost of $25 (purchasing the list is not profitable)\n",
    "\n",
    "H0 : μ <= 25 \n",
    "\n",
    "Alternative hypothesis:\n",
    "The mean order value generated by the email list is bigger than the cost of $25 (purchasing the list is profitable)\n",
    "\n",
    "H1 : μ > 25 \n",
    "\n",
    "The test above can be regarded as a one tailed test, since we’d only like to see whether the order value exceed 25 or not.\n"
   ]
  },
  {
   "cell_type": "markdown",
   "id": "e921b609-0184-4b36-8f72-c89e43879190",
   "metadata": {},
   "source": [
    "Type of test:\n",
    "Because we have many number of data, and no standard deviation is available, we will use 1 sampe T-Test (Z-Test, standard deviation should be known and data > 30)\n",
    "The appropriate significance level (α) depends on how confident we want to be in our result, for this case we choose α = 0.05, as this is the most common significant level and not very rigid in terms of the result \n"
   ]
  },
  {
   "cell_type": "markdown",
   "id": "173ad9f3-8fa9-4a86-b636-518bd82708fd",
   "metadata": {},
   "source": [
    "### Question 3"
   ]
  },
  {
   "cell_type": "code",
   "execution_count": 18,
   "id": "d860c533-ca6a-4c5f-9334-a832f3181dcc",
   "metadata": {},
   "outputs": [],
   "source": [
    "from scipy.stats import ttest_1samp\n",
    "from statsmodels.stats.weightstats import ztest"
   ]
  },
  {
   "cell_type": "code",
   "execution_count": 20,
   "id": "06c85765-b67e-4e52-b48e-1c274dfec5ad",
   "metadata": {},
   "outputs": [],
   "source": [
    "total_cost_per_user = 25\n",
    "total_sample = len(email_advertising)"
   ]
  },
  {
   "cell_type": "code",
   "execution_count": 22,
   "id": "aeba453c-1a79-4325-bf72-a4234aa740ca",
   "metadata": {},
   "outputs": [],
   "source": [
    "t_statistic, p_value= ttest_1samp(a= email_advertising['order_value'], popmean= total_cost_per_user, alternative= 'greater')"
   ]
  },
  {
   "cell_type": "code",
   "execution_count": 24,
   "id": "ff01a5fc-22bb-40d7-ad10-fb9f8006e193",
   "metadata": {},
   "outputs": [
    {
     "name": "stdout",
     "output_type": "stream",
     "text": [
      "(t-statistic): 4.0885165\n",
      "(p-value): 0.0000303\n"
     ]
    }
   ],
   "source": [
    "print(f\"(t-statistic): {t_statistic:.7f}\")\n",
    "print(f\"(p-value): {p_value:.7f}\")"
   ]
  },
  {
   "cell_type": "code",
   "execution_count": 26,
   "id": "46189a74-5f8b-4afd-955c-d32ed57d2779",
   "metadata": {},
   "outputs": [
    {
     "name": "stdout",
     "output_type": "stream",
     "text": [
      "Decision: Reject Null Hypothesis\n"
     ]
    }
   ],
   "source": [
    "alpha= 0.05\n",
    "if p_value < alpha:\n",
    "    print(\"Decision: Reject Null Hypothesis\")\n",
    "else:\n",
    "    print(\"Devision: Failed to Reject Null Hyphotesis\")"
   ]
  },
  {
   "cell_type": "markdown",
   "id": "29712763-0030-4218-9183-9eaf56f935d8",
   "metadata": {},
   "source": [
    "### Question 4"
   ]
  },
  {
   "cell_type": "code",
   "execution_count": 34,
   "id": "909c89d9-2da2-4c18-98a4-eb9846b7943d",
   "metadata": {},
   "outputs": [
    {
     "data": {
      "image/png": "[encoded data removed]",
      "text/plain": [
       "<Figure size 1000x600 with 1 Axes>"
      ]
     },
     "metadata": {},
     "output_type": "display_data"
    }
   ],
   "source": [
    "# Parameters for the t-distribution\n",
    "degree_freedom = len(email_advertising['order_value']) - 1  # degrees of freedom\n",
    "\n",
    "alpha = 0.05  # Significance level\n",
    "\n",
    "# Calculate the critical t-value for a one-tailed test\n",
    "t_critical = stats.t.ppf(1 - alpha, degree_freedom)  # One-tailed test, hence we use 1-alpha\n",
    "\n",
    "# Generate x-axis values for plotting the t-distribution\n",
    "x = np.linspace(-4, 4, 1000)\n",
    "\n",
    "# Plotting the t-distribution\n",
    "plt.figure(figsize=(10, 6))\n",
    "sns.lineplot(x=x, y=stats.t.pdf(x, degree_freedom), color='blue', label=f't-distribution (df={degree_freedom})')\n",
    "\n",
    "# Shading the alpha region (area greater than the t-statistic)\n",
    "x_fill = np.linspace(t_critical, 4)\n",
    "plt.fill_between(x_fill, \n",
    "                 stats.t.pdf(x_fill, degree_freedom),\n",
    "                 color='red', \n",
    "                 alpha=0.35, \n",
    "                 label=f'alpha')\n",
    "\n",
    "# plot pvalue\n",
    "x_pvalue = np.arange(t_statistic, 4, 0.01)\n",
    "y_pvalue = stats.t.pdf(x_pvalue, degree_freedom)\n",
    "plt.fill_between(x = x_pvalue, \n",
    "                 y1 = y_pvalue,\n",
    "                 facecolor = 'green',\n",
    "                 alpha = 0.35, \n",
    "                 label = 'pvalue')\n",
    "\n",
    "\n",
    "# Add a vertical line for the calculated t-statistic\n",
    "plt.axvline(t_statistic, color='green', linestyle='--', label=f't-statistic = {t_statistic:.2f}')\n",
    "\n",
    "# Add a vertical line for the critical t-value\n",
    "plt.axvline(t_critical, color='red', linestyle='--', label=f't-critical (α={alpha}) = {t_critical:.2f}')\n",
    "\n",
    "# Adding text for alpha and p-value\n",
    "plt.text(t_statistic + 0.5, 0.05, f't_stat = {t_statistic:.10f}', color='black', fontsize=10)\n",
    "plt.text(t_critical + 0.5, 0.05, f't-critical = {t_critical:.2f}', color='red', fontsize=10)\n",
    "#add text to t_statistic\n",
    "\n",
    "\n",
    "\n",
    "# Plot settings\n",
    "plt.title('T-Distribution with P-value, Alpha, and T-Critical Shaded (One-Tailed Test)')\n",
    "plt.xlabel('t-values')\n",
    "plt.ylabel('Probability Density')\n",
    "plt.legend()\n",
    "\n",
    "\n",
    "# Show the plot\n",
    "plt.show()"
   ]
  },
  {
   "cell_type": "markdown",
   "id": "46aa96a0-17c8-4240-bd83-4f524af1b53d",
   "metadata": {},
   "source": [
    "Go forward to purchase larger email lists, because based on the above hypothesis, it is likely that the mean order value is bigger than 25 usd, thus covering the cost."
   ]
  },
  {
   "cell_type": "markdown",
   "id": "f8099fef-7a57-4644-88f5-93c782a67c98",
   "metadata": {},
   "source": [
    "### Question 5"
   ]
  },
  {
   "cell_type": "code",
   "execution_count": 53,
   "id": "45a62a84-2a78-454e-954c-287f0c852d7d",
   "metadata": {},
   "outputs": [],
   "source": [
    "email_advertising['Profit']= email_advertising['order_value'] - 25"
   ]
  },
  {
   "cell_type": "code",
   "execution_count": 55,
   "id": "390d70aa-3e2e-4445-b3b6-6b2ab718cb17",
   "metadata": {},
   "outputs": [
    {
     "data": {
      "text/html": [
       "<div>\n",
       "<style scoped>\n",
       "    .dataframe tbody tr th:only-of-type {\n",
       "        vertical-align: middle;\n",
       "    }\n",
       "\n",
       "    .dataframe tbody tr th {\n",
       "        vertical-align: top;\n",
       "    }\n",
       "\n",
       "    .dataframe thead th {\n",
       "        text-align: right;\n",
       "    }\n",
       "</style>\n",
       "<table border=\"1\" class=\"dataframe\">\n",
       "  <thead>\n",
       "    <tr style=\"text-align: right;\">\n",
       "      <th></th>\n",
       "      <th>email</th>\n",
       "      <th>order_date</th>\n",
       "      <th>order_value</th>\n",
       "      <th>Profit</th>\n",
       "    </tr>\n",
       "  </thead>\n",
       "  <tbody>\n",
       "    <tr>\n",
       "      <th>0</th>\n",
       "      <td>Joanne.Lesch98@gmail.com</td>\n",
       "      <td>09-02-2024</td>\n",
       "      <td>5.635641</td>\n",
       "      <td>-19.364359</td>\n",
       "    </tr>\n",
       "    <tr>\n",
       "      <th>1</th>\n",
       "      <td>Sylvia79@hotmail.com</td>\n",
       "      <td>12-02-2024</td>\n",
       "      <td>45.348933</td>\n",
       "      <td>20.348933</td>\n",
       "    </tr>\n",
       "    <tr>\n",
       "      <th>2</th>\n",
       "      <td>Eddie_Cummings84@hotmail.com</td>\n",
       "      <td>09-03-2024</td>\n",
       "      <td>10.286325</td>\n",
       "      <td>-14.713675</td>\n",
       "    </tr>\n",
       "    <tr>\n",
       "      <th>3</th>\n",
       "      <td>Sarah_Muller68@gmail.com</td>\n",
       "      <td>19-03-2024</td>\n",
       "      <td>25.682935</td>\n",
       "      <td>0.682935</td>\n",
       "    </tr>\n",
       "    <tr>\n",
       "      <th>4</th>\n",
       "      <td>Edmond35@yahoo.com</td>\n",
       "      <td>24-02-2024</td>\n",
       "      <td>0.494204</td>\n",
       "      <td>-24.505796</td>\n",
       "    </tr>\n",
       "    <tr>\n",
       "      <th>...</th>\n",
       "      <td>...</td>\n",
       "      <td>...</td>\n",
       "      <td>...</td>\n",
       "      <td>...</td>\n",
       "    </tr>\n",
       "    <tr>\n",
       "      <th>220</th>\n",
       "      <td>Neil_Klocko80@gmail.com</td>\n",
       "      <td>21-02-2024</td>\n",
       "      <td>14.201351</td>\n",
       "      <td>-10.798649</td>\n",
       "    </tr>\n",
       "    <tr>\n",
       "      <th>221</th>\n",
       "      <td>Julius.Ziemann25@yahoo.com</td>\n",
       "      <td>19-02-2024</td>\n",
       "      <td>26.550420</td>\n",
       "      <td>1.550420</td>\n",
       "    </tr>\n",
       "    <tr>\n",
       "      <th>222</th>\n",
       "      <td>Neil_Jones62@hotmail.com</td>\n",
       "      <td>05-02-2024</td>\n",
       "      <td>39.002991</td>\n",
       "      <td>14.002991</td>\n",
       "    </tr>\n",
       "    <tr>\n",
       "      <th>223</th>\n",
       "      <td>Renee_Parker@yahoo.com</td>\n",
       "      <td>27-03-2024</td>\n",
       "      <td>11.990914</td>\n",
       "      <td>-13.009086</td>\n",
       "    </tr>\n",
       "    <tr>\n",
       "      <th>224</th>\n",
       "      <td>Catherine32@hotmail.com</td>\n",
       "      <td>21-02-2024</td>\n",
       "      <td>8.163475</td>\n",
       "      <td>-16.836525</td>\n",
       "    </tr>\n",
       "  </tbody>\n",
       "</table>\n",
       "<p>225 rows × 4 columns</p>\n",
       "</div>"
      ],
      "text/plain": [
       "                            email  order_date  order_value     Profit\n",
       "0        Joanne.Lesch98@gmail.com  09-02-2024     5.635641 -19.364359\n",
       "1            Sylvia79@hotmail.com  12-02-2024    45.348933  20.348933\n",
       "2    Eddie_Cummings84@hotmail.com  09-03-2024    10.286325 -14.713675\n",
       "3        Sarah_Muller68@gmail.com  19-03-2024    25.682935   0.682935\n",
       "4              Edmond35@yahoo.com  24-02-2024     0.494204 -24.505796\n",
       "..                            ...         ...          ...        ...\n",
       "220       Neil_Klocko80@gmail.com  21-02-2024    14.201351 -10.798649\n",
       "221    Julius.Ziemann25@yahoo.com  19-02-2024    26.550420   1.550420\n",
       "222      Neil_Jones62@hotmail.com  05-02-2024    39.002991  14.002991\n",
       "223        Renee_Parker@yahoo.com  27-03-2024    11.990914 -13.009086\n",
       "224       Catherine32@hotmail.com  21-02-2024     8.163475 -16.836525\n",
       "\n",
       "[225 rows x 4 columns]"
      ]
     },
     "execution_count": 55,
     "metadata": {},
     "output_type": "execute_result"
    }
   ],
   "source": [
    "email_advertising"
   ]
  },
  {
   "cell_type": "code",
   "execution_count": 70,
   "id": "dc66ddae-1bce-4025-816d-3fa2db001274",
   "metadata": {},
   "outputs": [],
   "source": [
    "mean_profit= email_advertising['Profit'].mean()\n",
    "std_profit = email_advertising['Profit'].std()/np.sqrt(len(email_advertising))\n",
    "degree_freedom= len(email_advertising)-1"
   ]
  },
  {
   "cell_type": "code",
   "execution_count": 76,
   "id": "7ad18611-b489-4a2c-9539-a653917dafad",
   "metadata": {},
   "outputs": [],
   "source": [
    "from statsmodels.stats.weightstats import _tconfint_generic"
   ]
  },
  {
   "cell_type": "code",
   "execution_count": 82,
   "id": "91a64127-e6b9-42ea-8e2b-b21d30ec542f",
   "metadata": {},
   "outputs": [
    {
     "data": {
      "text/plain": [
       "(3.585739991854198, 16.085183351700472)"
      ]
     },
     "execution_count": 82,
     "metadata": {},
     "output_type": "execute_result"
    }
   ],
   "source": [
    "ci_low, ci_high= _tconfint_generic(\n",
    "    mean=mean_profit,\n",
    "    std_mean=std_profit,\n",
    "    dof=degree_freedom,\n",
    "    alpha=0.01, # 99% confidence level\n",
    "    alternative= 'two-sided'\n",
    "    )\n",
    "\n",
    "#Target_profit\n",
    "target_profit= 1000\n",
    "\n",
    "#Result\n",
    "ci_low, ci_high"
   ]
  },
  {
   "cell_type": "code",
   "execution_count": 84,
   "id": "c3e815ab-771e-40b7-b9a5-18aad3e97f69",
   "metadata": {},
   "outputs": [
    {
     "name": "stdout",
     "output_type": "stream",
     "text": [
      "Confidence Interval Low per user: 3.585739991854198\n",
      "Confidence Interval High per user: 16.085183351700472\n",
      "Confidence Interval Low per 100 user: 358.57399918541984\n",
      "Confidence Interval High per 100 user: 1608.5183351700473\n"
     ]
    }
   ],
   "source": [
    "print(f\"Confidence Interval Low per user: {ci_low}\")\n",
    "print(f\"Confidence Interval High per user: {ci_high}\")\n",
    "\n",
    "print(f\"Confidence Interval Low per 100 user: {ci_low*100}\")\n",
    "print(f\"Confidence Interval High per 100 user: {ci_high*100}\")"
   ]
  },
  {
   "cell_type": "markdown",
   "id": "023a6f38-8e19-436e-b7fc-fcd1f74af306",
   "metadata": {},
   "source": [
    "The result shows target profit lies between the interval,hence we can agree on the requested price"
   ]
  },
  {
   "cell_type": "markdown",
   "id": "6931eefa-b4c4-46bc-bd75-992bd69d6bb9",
   "metadata": {
    "jp-MarkdownHeadingCollapsed": true
   },
   "source": [
    "## Case 3"
   ]
  },
  {
   "cell_type": "code",
   "execution_count": 143,
   "id": "171a6a3a-d8f5-4b0a-b379-f76060138cd8",
   "metadata": {},
   "outputs": [],
   "source": [
    "abtest_data = pd.read_csv(\"abtest_data.csv\")"
   ]
  },
  {
   "cell_type": "code",
   "execution_count": 145,
   "id": "a6ecfc7b-7c31-45ef-8008-dd25b4d10cc2",
   "metadata": {},
   "outputs": [
    {
     "data": {
      "text/html": [
       "<div>\n",
       "<style scoped>\n",
       "    .dataframe tbody tr th:only-of-type {\n",
       "        vertical-align: middle;\n",
       "    }\n",
       "\n",
       "    .dataframe tbody tr th {\n",
       "        vertical-align: top;\n",
       "    }\n",
       "\n",
       "    .dataframe thead th {\n",
       "        text-align: right;\n",
       "    }\n",
       "</style>\n",
       "<table border=\"1\" class=\"dataframe\">\n",
       "  <thead>\n",
       "    <tr style=\"text-align: right;\">\n",
       "      <th></th>\n",
       "      <th>uid</th>\n",
       "      <th>timestamp</th>\n",
       "      <th>group</th>\n",
       "      <th>device</th>\n",
       "      <th>gender</th>\n",
       "      <th>country</th>\n",
       "      <th>purchases</th>\n",
       "    </tr>\n",
       "  </thead>\n",
       "  <tbody>\n",
       "    <tr>\n",
       "      <th>0</th>\n",
       "      <td>94281205</td>\n",
       "      <td>2023-11-01 00:02:58</td>\n",
       "      <td>control</td>\n",
       "      <td>I</td>\n",
       "      <td>F</td>\n",
       "      <td>DEU</td>\n",
       "      <td>0</td>\n",
       "    </tr>\n",
       "    <tr>\n",
       "      <th>1</th>\n",
       "      <td>94089059</td>\n",
       "      <td>2023-11-01 00:02:58</td>\n",
       "      <td>treatment</td>\n",
       "      <td>A</td>\n",
       "      <td>M</td>\n",
       "      <td>MEX</td>\n",
       "      <td>0</td>\n",
       "    </tr>\n",
       "    <tr>\n",
       "      <th>2</th>\n",
       "      <td>95943267</td>\n",
       "      <td>2023-11-01 00:04:49</td>\n",
       "      <td>treatment</td>\n",
       "      <td>I</td>\n",
       "      <td>M</td>\n",
       "      <td>TUR</td>\n",
       "      <td>0</td>\n",
       "    </tr>\n",
       "    <tr>\n",
       "      <th>3</th>\n",
       "      <td>96108931</td>\n",
       "      <td>2023-11-01 00:04:49</td>\n",
       "      <td>control</td>\n",
       "      <td>I</td>\n",
       "      <td>F</td>\n",
       "      <td>USA</td>\n",
       "      <td>0</td>\n",
       "    </tr>\n",
       "    <tr>\n",
       "      <th>4</th>\n",
       "      <td>48172937</td>\n",
       "      <td>2023-11-01 00:06:38</td>\n",
       "      <td>control</td>\n",
       "      <td>I</td>\n",
       "      <td>M</td>\n",
       "      <td>USA</td>\n",
       "      <td>0</td>\n",
       "    </tr>\n",
       "  </tbody>\n",
       "</table>\n",
       "</div>"
      ],
      "text/plain": [
       "        uid            timestamp      group device gender country  purchases\n",
       "0  94281205  2023-11-01 00:02:58    control      I      F     DEU          0\n",
       "1  94089059  2023-11-01 00:02:58  treatment      A      M     MEX          0\n",
       "2  95943267  2023-11-01 00:04:49  treatment      I      M     TUR          0\n",
       "3  96108931  2023-11-01 00:04:49    control      I      F     USA          0\n",
       "4  48172937  2023-11-01 00:06:38    control      I      M     USA          0"
      ]
     },
     "execution_count": 145,
     "metadata": {},
     "output_type": "execute_result"
    }
   ],
   "source": [
    "abtest_data.head(5)"
   ]
  },
  {
   "cell_type": "markdown",
   "id": "cefaa583-a577-44af-adf8-3d3a8033a383",
   "metadata": {},
   "source": [
    "Definisi Hipotesis dan Tipe Uji\n",
    "\n",
    "Null Hypothesis (H0)\n",
    "Jumlah pembelian pada proposed paywall kurang dari atau sama dengan jumlah pembelian pada current paywall.\n",
    "\n",
    "H0: `Purchase pada proposed paywall <= Purchase pada current paywall\n"
   ]
  },
  {
   "cell_type": "markdown",
   "id": "28cbe958-3861-4646-9eb7-f3739a375242",
   "metadata": {},
   "source": [
    "Alternative Hypothesis (H1)\n",
    "Jumlah pembelian pada proposed paywall lebih besar daripada jumlah pembelian pada current paywall.\n",
    "\n",
    "H1: `Purchase pada proposed paywall > Purchase pada current paywall`\n",
    "\n",
    "Test Type\n",
    "Uji ini adalah uji satu arah (one-tailed test) karena kami hanya ingin mengetahui apakah jumlah pembelian pada proposed paywall lebih besar.\n",
    "\n",
    "Significance Level\n",
    "Kami memilih level signifikansi (alpha) sebesar 0.05 untuk uji ini."
   ]
  },
  {
   "cell_type": "code",
   "execution_count": 164,
   "id": "cd6ea205-98dd-43f0-8fe3-f5b224237b62",
   "metadata": {},
   "outputs": [
    {
     "name": "stdout",
     "output_type": "stream",
     "text": [
      "jumlah data control: 22874\n",
      "jumlah data treatment: 23009\n",
      "jumlah total data: 45883\n"
     ]
    }
   ],
   "source": [
    "# define data control & data treatment\n",
    "data_control= abtest_data[abtest_data['group']=='control']\n",
    "data_treatment= abtest_data[abtest_data['group']=='treatment']\n",
    "\n",
    "n_data_control= data_control.shape[0]\n",
    "n_data_treatment= data_treatment.shape[0]\n",
    "n_all_data= abtest_data.shape[0]\n",
    "\n",
    "print(f\"jumlah data control: {n_data_control}\")\n",
    "print(f\"jumlah data treatment: {n_data_treatment}\")\n",
    "print(f\"jumlah total data: {n_all_data}\")\n"
   ]
  },
  {
   "cell_type": "code",
   "execution_count": 166,
   "id": "bfe3e8f4-389e-4913-b044-7e49ba3e37eb",
   "metadata": {},
   "outputs": [
    {
     "name": "stdout",
     "output_type": "stream",
     "text": [
      "jumlah data control converted paid user: 785\n",
      "jumlah data treatment converted paid user: 873\n"
     ]
    }
   ],
   "source": [
    "# check converted user di data control & data treatment\n",
    "\n",
    "data_control_convert= data_control[data_control['purchases']==1]\n",
    "n_control_convert= data_control_convert.shape[0]\n",
    "\n",
    "data_treatment_convert= data_treatment[data_treatment['purchases']==1]\n",
    "n_treatment_convert= data_treatment_convert.shape[0]\n",
    "\n",
    "print(f\"jumlah data control converted paid user: {n_control_convert}\")\n",
    "print(f\"jumlah data treatment converted paid user: {n_treatment_convert}\")"
   ]
  },
  {
   "cell_type": "code",
   "execution_count": 168,
   "id": "5b23b758-b71c-474e-961f-798cefddec25",
   "metadata": {},
   "outputs": [
    {
     "name": "stderr",
     "output_type": "stream",
     "text": [
      "C:\\Users\\zilmi.nugroho\\AppData\\Local\\Temp\\ipykernel_27672\\2848442390.py:8: UserWarning: set_ticklabels() should only be used with a fixed number of ticks, i.e. after set_ticks() or using a FixedLocator.\n",
      "  ax.set_xticklabels(labels=['control','treatment'], fontsize= 15)\n"
     ]
    },
    {
     "data": {
      "image/png": "[encoded data removed]",
      "text/plain": [
       "<Figure size 600x500 with 1 Axes>"
      ]
     },
     "metadata": {},
     "output_type": "display_data"
    }
   ],
   "source": [
    "fig, ax= plt.subplots(nrows=1, ncols=1, figsize=(6,5))\n",
    "\n",
    "ax.bar('Control', n_control_convert, color=\"green\", label=\"Control\")\n",
    "ax.bar('Treatment', n_treatment_convert, color=\"blue\", label=\"Treatment\")\n",
    "\n",
    "ax.set_ylabel(\"Conversion Rate\", fontsize= 15)\n",
    "ax.set_xlabel(\"Group\", fontsize= 15)\n",
    "ax.set_xticklabels(labels=['control','treatment'], fontsize= 15)\n",
    "plt.show()"
   ]
  },
  {
   "cell_type": "code",
   "execution_count": 372,
   "id": "99825703-a5a9-4c3d-b536-6bb457f29ba1",
   "metadata": {},
   "outputs": [],
   "source": [
    "count_convert= [n_treatment_convert, n_control_convert]\n",
    "count_observation= [n_data_treatment, n_data_control]"
   ]
  },
  {
   "cell_type": "code",
   "execution_count": 376,
   "id": "0a29893f-7dff-4bc5-ac70-41db0bf4aff0",
   "metadata": {},
   "outputs": [
    {
     "name": "stdout",
     "output_type": "stream",
     "text": [
      "z stats: 2.0793\n",
      "p-value: 0.0188\n"
     ]
    }
   ],
   "source": [
    "from statsmodels.stats.proportion import proportions_ztest\n",
    "\n",
    "#calculate z statistical and p-value\n",
    "z_stat, p_value= proportions_ztest(count= count_convert,\n",
    "                                   nobs= count_observation,\n",
    "                                   alternative= 'larger')\n",
    "\n",
    "print(f\"z stats: {z_stat:.4f}\")\n",
    "print(f\"p-value: {p_value:.4f}\")"
   ]
  },
  {
   "cell_type": "code",
   "execution_count": 378,
   "id": "7bb556b4-8ecd-4f6d-963a-4925e1dffa7d",
   "metadata": {},
   "outputs": [
    {
     "name": "stdout",
     "output_type": "stream",
     "text": [
      "z-critical: 1.6449\n"
     ]
    }
   ],
   "source": [
    "#calculate z critical\n",
    "\n",
    "alpha= 0.05\n",
    "z_critical= stats.norm.ppf(1-alpha)\n",
    "print(f\"z-critical: {z_critical:.4f}\")"
   ]
  },
  {
   "cell_type": "code",
   "execution_count": 380,
   "id": "79251258-0838-42b9-9d84-db354a455876",
   "metadata": {},
   "outputs": [
    {
     "name": "stdout",
     "output_type": "stream",
     "text": [
      "Decision: Reject Null Hypothesis\n"
     ]
    }
   ],
   "source": [
    "# make decision based on p-value\n",
    "\n",
    "if p_value < alpha:\n",
    "    print(\"Decision: Reject Null Hypothesis\")\n",
    "else:\n",
    "    print(\"Devision: Failed to Reject Null Hyphotesis\")\n"
   ]
  },
  {
   "cell_type": "code",
   "execution_count": 382,
   "id": "7a16926b-6c5f-4e5b-8032-4fb982b83393",
   "metadata": {},
   "outputs": [
    {
     "name": "stdout",
     "output_type": "stream",
     "text": [
      "Decision: Reject Null Hypothesis\n"
     ]
    }
   ],
   "source": [
    "if z_stat > z_critical:\n",
    "    print(\"Decision: Reject Null Hypothesis\")\n",
    "else:\n",
    "    print(\"Devision: Failed to Reject Null Hyphotesis\")\n"
   ]
  },
  {
   "cell_type": "code",
   "execution_count": 410,
   "id": "187fa489-a7a4-4f4e-ab6a-59f1e3675e8f",
   "metadata": {},
   "outputs": [
    {
     "data": {
      "image/png": "[encoded data removed]",
      "text/plain": [
       "<Figure size 1000x700 with 1 Axes>"
      ]
     },
     "metadata": {},
     "output_type": "display_data"
    }
   ],
   "source": [
    "fig, ax= plt.subplots(nrows=1, ncols=1, figsize=(10,7))\n",
    "\n",
    "#Visualization\n",
    "plt.style.use('ggplot')\n",
    "\n",
    "#plot sample distribution\n",
    "x_sample= np.arange(-4.,4., 0.001)\n",
    "y_sample = stats.norm.pdf(x_sample, 0, 1)\n",
    "\n",
    "# Plot the normal distribution\n",
    "ax.plot(x_sample, y_sample, color='blue')\n",
    "\n",
    "#plot alpha region\n",
    "x_alpha= np.arange(z_critical, 4., 0.001)\n",
    "y_alpha= stats.norm.pdf(x_alpha)\n",
    "ax.fill_between(x= x_alpha,\n",
    "                y1= y_alpha,\n",
    "                facecolor= \"red\",\n",
    "                alpha = 0.35,\n",
    "                label= 'alpha')\n",
    "\n",
    "# plot pvalue\n",
    "x_pvalue = np.arange(z_stat, 4., 0.01)\n",
    "y_pvalue = stats.t.pdf(x_pvalue, df = 114)\n",
    "ax.fill_between(x = x_pvalue, \n",
    "                 y1 = y_pvalue,\n",
    "                 facecolor = 'green',\n",
    "                 alpha = 0.35, \n",
    "                 label = 'pvalue')\n",
    "\n",
    "# plot z-crit and z-stats\n",
    "plt.axvline(np.round(z_stat, 4), \n",
    "            color =\"green\", \n",
    "            linestyle = \"--\", \n",
    "            label =\"z-stat\")\n",
    "plt.axvline(z_critical, \n",
    "            color =\"red\", \n",
    "            linestyle = \"--\", \n",
    "            label =\"z-crit\")\n",
    "\n",
    "plt.legend()\n",
    "plt.xlabel(\"z\")\n",
    "plt.ylabel(\"density\")\n",
    "\n",
    "plt.title(f'Standard Normal Distribution Plot \\n\\n z_crit = {np.round(z_critical, 4)}, p-val = {np.round(p_value, 4)}, alpha = 0.05');"
   ]
  },
  {
   "cell_type": "markdown",
   "id": "207bf5af-1693-4122-bd01-9981076acfe8",
   "metadata": {},
   "source": [
    "Conclusion Reject Null Hypothesis (H0), thus we can agree that the app team should change the paywall message"
   ]
  }
 ],
 "metadata": {
  "kernelspec": {
   "display_name": "Python 3 (ipykernel)",
   "language": "python",
   "name": "python3"
  },
  "language_info": {
   "codemirror_mode": {
    "name": "ipython",
    "version": 3
   },
   "file_extension": ".py",
   "mimetype": "text/x-python",
   "name": "python",
   "nbconvert_exporter": "python",
   "pygments_lexer": "ipython3",
   "version": "3.12.4"
  }
 },
 "nbformat": 4,
 "nbformat_minor": 5
}
